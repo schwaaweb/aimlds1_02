{
  "nbformat": 4,
  "nbformat_minor": 0,
  "metadata": {
    "colab": {
      "name": "Solution of Data Preparation Categorical Encoding Challenge.ipynb",
      "version": "0.3.2",
      "provenance": [],
      "collapsed_sections": []
    },
    "kernelspec": {
      "name": "python3",
      "display_name": "Python 3"
    }
  },
  "cells": [
    {
      "cell_type": "markdown",
      "metadata": {
        "id": "view-in-github",
        "colab_type": "text"
      },
      "source": [
        "[View in Colaboratory](https://colab.research.google.com/github/schwaaweb/aimlds1_02/blob/master/T02_CCS-Solution_of_Data_Preparation_Categorical_Encoding_Challenge.ipynb)"
      ]
    },
    {
      "metadata": {
        "id": "Dd-KLrCnex_Z",
        "colab_type": "text"
      },
      "cell_type": "markdown",
      "source": [
        "## Categorical Encodidng\n",
        "\n",
        "In this challenge, we will touch on another data preparation task that you should be aware of. This task revolves around dealing with \"Categorical\" variables. As you already know by now, Machine Learning models are based on mathematical equations. If the underlying data set contains categorical data, then the categorical variables needed to be converted into numbers since a mathematical equation only contains numbers. \n",
        "\n",
        "The data set used in Coding Challenge #1 contains 2 categorical variables i.e. 'Cities in Bay Area' and 'Own Home?'. The first categorical variable contains 3 categories i.e. 'Pleasanton', 'Walnut Creek' and 'Dublin' and the second categorical variable contains 2 categories i.e. 'Yes' and 'No.\n",
        "\n",
        "Ask? Encode the 'Cities in Bay Area' categorical variable into numbers.\n",
        "\n",
        "*Hint*: Utilize the LabelEncoder class from the sklearn.preprocessing page\n",
        "\n",
        "*Additional Resource*: http://pbpython.com/categorical-encoding.html"
      ]
    },
    {
      "metadata": {
        "id": "ELg-MYAmDnLq",
        "colab_type": "code",
        "colab": {
          "base_uri": "https://localhost:8080/",
          "height": 360
        },
        "outputId": "37026ecd-36e5-46ba-b845-16cb48c82356"
      },
      "cell_type": "code",
      "source": [
        "import numpy as np\n",
        "import pandas as pd\n",
        "from sklearn.preprocessing import LabelEncoder\n",
        "\n",
        "result = pd.read_csv('https://www.dropbox.com/s/ldbp498ukkdy3fd/Data-CodeChallenge2.csv?raw=1')\n",
        "new_series_obj = pd.Series([])\n",
        "new_series_obj = result.iloc[:,0:3].values\n",
        "\n",
        "\n",
        "print(new_series_obj)\n",
        "\n",
        "labelencoder = LabelEncoder()\n",
        "new_series_obj[:,0] = labelencoder.fit_transform(new_series_obj[:,0])\n",
        "\n",
        "print(new_series_obj)\n",
        "\n"
      ],
      "execution_count": 6,
      "outputs": [
        {
          "output_type": "stream",
          "text": [
            "[['Pleasanton' 44 172000]\n",
            " ['Walnut Creek' 27 148000]\n",
            " ['Dublin' 30 154000]\n",
            " ['Walnut Creek' 38 161000]\n",
            " ['Dublin' 40 161000]\n",
            " ['Pleasanton' 35 158000]\n",
            " ['Walnut Creek' 38 152000]\n",
            " ['Pleasanton' 48 179000]\n",
            " ['Dublin' 50 183000]\n",
            " ['Pleasanton' 37 167000]]\n",
            "[[1 44 172000]\n",
            " [2 27 148000]\n",
            " [0 30 154000]\n",
            " [2 38 161000]\n",
            " [0 40 161000]\n",
            " [1 35 158000]\n",
            " [2 38 152000]\n",
            " [1 48 179000]\n",
            " [0 50 183000]\n",
            " [1 37 167000]]\n"
          ],
          "name": "stdout"
        }
      ]
    },
    {
      "metadata": {
        "id": "vGsqVOPhEEeW",
        "colab_type": "text"
      },
      "cell_type": "markdown",
      "source": [
        "## Stretch goal\n",
        "`LabelEncoding` suggests a value difference between different classes. Instead, explore `OneHotEncoder` [OneHotEncoder](http://scikit-learn.org/stable/modules/generated/sklearn.preprocessing.OneHotEncoder.html) to produce categorical labels that are not biased:\n"
      ]
    },
    {
      "metadata": {
        "id": "fLMNpcKOEYUm",
        "colab_type": "code",
        "colab": {
          "base_uri": "https://localhost:8080/",
          "height": 188
        },
        "outputId": "2c38337d-3b73-4248-c81d-f629933c865a"
      },
      "cell_type": "code",
      "source": [
        "from sklearn.preprocessing import OneHotEncoder\n",
        "\n",
        "onehotencoder = OneHotEncoder(categorical_features = [0])\n",
        "new_series = onehotencoder.fit_transform(new_series_obj).toarray()\n",
        "\n",
        "#np.set_printoptions(formatter={'float_kind':'{:f}'.format})\n",
        "np.set_printoptions(precision=1)\n",
        "np.round(new_series,1)\n",
        "\n",
        "print(new_series)\n"
      ],
      "execution_count": 15,
      "outputs": [
        {
          "output_type": "stream",
          "text": [
            "[[0.0e+00 1.0e+00 0.0e+00 4.4e+01 1.7e+05]\n",
            " [0.0e+00 0.0e+00 1.0e+00 2.7e+01 1.5e+05]\n",
            " [1.0e+00 0.0e+00 0.0e+00 3.0e+01 1.5e+05]\n",
            " [0.0e+00 0.0e+00 1.0e+00 3.8e+01 1.6e+05]\n",
            " [1.0e+00 0.0e+00 0.0e+00 4.0e+01 1.6e+05]\n",
            " [0.0e+00 1.0e+00 0.0e+00 3.5e+01 1.6e+05]\n",
            " [0.0e+00 0.0e+00 1.0e+00 3.8e+01 1.5e+05]\n",
            " [0.0e+00 1.0e+00 0.0e+00 4.8e+01 1.8e+05]\n",
            " [1.0e+00 0.0e+00 0.0e+00 5.0e+01 1.8e+05]\n",
            " [0.0e+00 1.0e+00 0.0e+00 3.7e+01 1.7e+05]]\n"
          ],
          "name": "stdout"
        }
      ]
    },
    {
      "metadata": {
        "id": "8DihYJbaS0QB",
        "colab_type": "code",
        "colab": {
          "base_uri": "https://localhost:8080/",
          "height": 357
        },
        "outputId": "468ad277-37eb-4b0b-932f-1140e7195cb1"
      },
      "cell_type": "code",
      "source": [
        "df = result\n",
        "\n",
        "pd.get_dummies(df, columns=[\"Cities in East Bay\"]).head() # make columns for different categories in specified column\n",
        "\n",
        "dum_pd = pd.get_dummies(df, columns=[\"Cities in East Bay\"], prefix=[\"City\"])\n",
        "\n",
        "dum_pd"
      ],
      "execution_count": 16,
      "outputs": [
        {
          "output_type": "execute_result",
          "data": {
            "text/html": [
              "<div>\n",
              "<style scoped>\n",
              "    .dataframe tbody tr th:only-of-type {\n",
              "        vertical-align: middle;\n",
              "    }\n",
              "\n",
              "    .dataframe tbody tr th {\n",
              "        vertical-align: top;\n",
              "    }\n",
              "\n",
              "    .dataframe thead th {\n",
              "        text-align: right;\n",
              "    }\n",
              "</style>\n",
              "<table border=\"1\" class=\"dataframe\">\n",
              "  <thead>\n",
              "    <tr style=\"text-align: right;\">\n",
              "      <th></th>\n",
              "      <th>Age</th>\n",
              "      <th>Salary</th>\n",
              "      <th>Own Home?</th>\n",
              "      <th>City_Dublin</th>\n",
              "      <th>City_Pleasanton</th>\n",
              "      <th>City_Walnut Creek</th>\n",
              "    </tr>\n",
              "  </thead>\n",
              "  <tbody>\n",
              "    <tr>\n",
              "      <th>0</th>\n",
              "      <td>44</td>\n",
              "      <td>172000</td>\n",
              "      <td>No</td>\n",
              "      <td>0</td>\n",
              "      <td>1</td>\n",
              "      <td>0</td>\n",
              "    </tr>\n",
              "    <tr>\n",
              "      <th>1</th>\n",
              "      <td>27</td>\n",
              "      <td>148000</td>\n",
              "      <td>Yes</td>\n",
              "      <td>0</td>\n",
              "      <td>0</td>\n",
              "      <td>1</td>\n",
              "    </tr>\n",
              "    <tr>\n",
              "      <th>2</th>\n",
              "      <td>30</td>\n",
              "      <td>154000</td>\n",
              "      <td>No</td>\n",
              "      <td>1</td>\n",
              "      <td>0</td>\n",
              "      <td>0</td>\n",
              "    </tr>\n",
              "    <tr>\n",
              "      <th>3</th>\n",
              "      <td>38</td>\n",
              "      <td>161000</td>\n",
              "      <td>No</td>\n",
              "      <td>0</td>\n",
              "      <td>0</td>\n",
              "      <td>1</td>\n",
              "    </tr>\n",
              "    <tr>\n",
              "      <th>4</th>\n",
              "      <td>40</td>\n",
              "      <td>161000</td>\n",
              "      <td>Yes</td>\n",
              "      <td>1</td>\n",
              "      <td>0</td>\n",
              "      <td>0</td>\n",
              "    </tr>\n",
              "    <tr>\n",
              "      <th>5</th>\n",
              "      <td>35</td>\n",
              "      <td>158000</td>\n",
              "      <td>Yes</td>\n",
              "      <td>0</td>\n",
              "      <td>1</td>\n",
              "      <td>0</td>\n",
              "    </tr>\n",
              "    <tr>\n",
              "      <th>6</th>\n",
              "      <td>38</td>\n",
              "      <td>152000</td>\n",
              "      <td>No</td>\n",
              "      <td>0</td>\n",
              "      <td>0</td>\n",
              "      <td>1</td>\n",
              "    </tr>\n",
              "    <tr>\n",
              "      <th>7</th>\n",
              "      <td>48</td>\n",
              "      <td>179000</td>\n",
              "      <td>Yes</td>\n",
              "      <td>0</td>\n",
              "      <td>1</td>\n",
              "      <td>0</td>\n",
              "    </tr>\n",
              "    <tr>\n",
              "      <th>8</th>\n",
              "      <td>50</td>\n",
              "      <td>183000</td>\n",
              "      <td>No</td>\n",
              "      <td>1</td>\n",
              "      <td>0</td>\n",
              "      <td>0</td>\n",
              "    </tr>\n",
              "    <tr>\n",
              "      <th>9</th>\n",
              "      <td>37</td>\n",
              "      <td>167000</td>\n",
              "      <td>Yes</td>\n",
              "      <td>0</td>\n",
              "      <td>1</td>\n",
              "      <td>0</td>\n",
              "    </tr>\n",
              "  </tbody>\n",
              "</table>\n",
              "</div>"
            ],
            "text/plain": [
              "   Age  Salary Own Home?  City_Dublin  City_Pleasanton  City_Walnut Creek\n",
              "0   44  172000        No            0                1                  0\n",
              "1   27  148000       Yes            0                0                  1\n",
              "2   30  154000        No            1                0                  0\n",
              "3   38  161000        No            0                0                  1\n",
              "4   40  161000       Yes            1                0                  0\n",
              "5   35  158000       Yes            0                1                  0\n",
              "6   38  152000        No            0                0                  1\n",
              "7   48  179000       Yes            0                1                  0\n",
              "8   50  183000        No            1                0                  0\n",
              "9   37  167000       Yes            0                1                  0"
            ]
          },
          "metadata": {
            "tags": []
          },
          "execution_count": 16
        }
      ]
    },
    {
      "metadata": {
        "id": "6Wc86o0JUjEs",
        "colab_type": "code",
        "colab": {
          "base_uri": "https://localhost:8080/",
          "height": 205
        },
        "outputId": "5720f307-6cfa-4a63-e394-22e75b56b289"
      },
      "cell_type": "code",
      "source": [
        "lb_make = LabelEncoder()\n",
        "dum_pd[\"Own Home?\"] = lb_make.fit_transform(dum_pd[\"Own Home?\"])\n",
        "print(dum_pd)\n"
      ],
      "execution_count": 22,
      "outputs": [
        {
          "output_type": "stream",
          "text": [
            "   Age  Salary  Own Home?  City_Dublin  City_Pleasanton  City_Walnut Creek\n",
            "0   44  172000          0            0                1                  0\n",
            "1   27  148000          1            0                0                  1\n",
            "2   30  154000          0            1                0                  0\n",
            "3   38  161000          0            0                0                  1\n",
            "4   40  161000          1            1                0                  0\n",
            "5   35  158000          1            0                1                  0\n",
            "6   38  152000          0            0                0                  1\n",
            "7   48  179000          1            0                1                  0\n",
            "8   50  183000          0            1                0                  0\n",
            "9   37  167000          1            0                1                  0\n"
          ],
          "name": "stdout"
        }
      ]
    },
    {
      "metadata": {
        "id": "A48PFw7kU2Z4",
        "colab_type": "code",
        "colab": {}
      },
      "cell_type": "code",
      "source": [
        ""
      ],
      "execution_count": 0,
      "outputs": []
    }
  ]
}