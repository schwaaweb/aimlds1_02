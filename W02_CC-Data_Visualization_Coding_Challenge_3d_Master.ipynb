{
  "nbformat": 4,
  "nbformat_minor": 0,
  "metadata": {
    "colab": {
      "name": "Data Visualization Coding Challenge 3d - Master.ipynb",
      "version": "0.3.2",
      "provenance": [],
      "collapsed_sections": []
    },
    "kernelspec": {
      "name": "python3",
      "display_name": "Python 3"
    }
  },
  "cells": [
    {
      "cell_type": "markdown",
      "metadata": {
        "id": "view-in-github",
        "colab_type": "text"
      },
      "source": [
        "[View in Colaboratory](https://colab.research.google.com/github/schwaaweb/aimlds1_02/blob/master/W02_CC-Data_Visualization_Coding_Challenge_3d_Master.ipynb)"
      ]
    },
    {
      "metadata": {
        "id": "WY2_jv_04ThM",
        "colab_type": "text"
      },
      "cell_type": "markdown",
      "source": [
        "# 3d plots\n",
        "\n",
        "Use the following function `f(x,y)` and `np.meshgrid` to generate a beautiful 3d topology using [this tutorial](https://jakevdp.github.io/PythonDataScienceHandbook/04.12-three-dimensional-plotting.html).\n"
      ]
    },
    {
      "metadata": {
        "id": "qWKAmQl84RSt",
        "colab_type": "code",
        "colab": {}
      },
      "cell_type": "code",
      "source": [
        "import numpy as np\n",
        "\n",
        "def f(x, y):\n",
        "    return np.sin(x) ** 10 + np.cos(10 + y * x) * np.cos(x)\n",
        "x = np.linspace(0, 5, 50)\n",
        "y = np.linspace(0, 5, 40)\n",
        "\n",
        "X, Y = np.meshgrid(x, y)\n",
        "Z = f(X, Y)"
      ],
      "execution_count": 0,
      "outputs": []
    },
    {
      "metadata": {
        "id": "nrdyKSHmK_Kx",
        "colab_type": "text"
      },
      "cell_type": "markdown",
      "source": [
        "* What shape are X,Y, and Z? Check out [meshgrid](https://docs.scipy.org/doc/numpy/reference/generated/numpy.meshgrid.html).\n",
        "* How are you converting data in `x`, `y`, `f(x,y)`, `X`, `Y`, and `Z` into a pretty picture? In what way are all six data elements and the picture the same? How are they different?\n"
      ]
    },
    {
      "metadata": {
        "id": "YdpQN2QfMIJZ",
        "colab_type": "text"
      },
      "cell_type": "markdown",
      "source": [
        "# Stretch goal\n",
        "\n",
        "Make two more plots using data and `f(x,...)` of your own devising. Use $x^2$ if you don't have any other ideas. :)"
      ]
    },
    {
      "metadata": {
        "id": "ytkVm_j7MTtO",
        "colab_type": "code",
        "colab": {}
      },
      "cell_type": "code",
      "source": [
        "# More 3d plots!"
      ],
      "execution_count": 0,
      "outputs": []
    }
  ]
}