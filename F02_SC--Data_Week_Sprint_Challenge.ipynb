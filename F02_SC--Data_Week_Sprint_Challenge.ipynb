{
  "nbformat": 4,
  "nbformat_minor": 0,
  "metadata": {
    "colab": {
      "name": "Data Week Sprint Challenge.ipynb",
      "version": "0.3.2",
      "provenance": [],
      "collapsed_sections": []
    },
    "kernelspec": {
      "name": "python3",
      "display_name": "Python 3"
    }
  },
  "cells": [
    {
      "cell_type": "markdown",
      "metadata": {
        "id": "view-in-github",
        "colab_type": "text"
      },
      "source": [
        "[View in Colaboratory](https://colab.research.google.com/github/schwaaweb/aimlds1_02/blob/master/F02_SC--Data_Week_Sprint_Challenge.ipynb)"
      ]
    },
    {
      "metadata": {
        "id": "YZXyd0mPedAb",
        "colab_type": "code",
        "colab": {}
      },
      "cell_type": "code",
      "source": [
        "# LAMBDA SCHOOL\n",
        "#\n",
        "# MACHINE LEARNING\n",
        "#\n",
        "# MIT LICENSE\n",
        "\n",
        "import numpy as np\n",
        "import pandas as pd"
      ],
      "execution_count": 0,
      "outputs": []
    },
    {
      "metadata": {
        "id": "rIy8VyxHgrAX",
        "colab_type": "text"
      },
      "cell_type": "markdown",
      "source": [
        "# Data Preparation Sprint Challenge\n",
        "\n",
        "Data preparation can be an arduous process with many steps. These following challenges were all gone over in class.\n",
        "\n",
        "There are six objectives in Data Preparation:\n",
        "\n",
        "* select\n",
        "* filter\n",
        "* treat\n",
        "* de-duplicate\n",
        "* concatenate\n",
        "* transform\n",
        "\n",
        "There are three objectives in Data Visualization\n",
        "\n",
        "* Draw an oblique topology\n",
        "* Pairplot to find clusters\n",
        "* Plot clusters together\n",
        "\n",
        "Share with mlsubmissions@lambdaschool.com when finished."
      ]
    },
    {
      "metadata": {
        "id": "5ribQWFQlLSg",
        "colab_type": "text"
      },
      "cell_type": "markdown",
      "source": [
        "# Select\n",
        "\n",
        "Load `https://www.dropbox.com/s/xcqdya9svj04kwc/example4.csv?raw=1` and remove any rows that are not data samples.\n",
        "\n",
        "Print your result and its dimensions."
      ]
    },
    {
      "metadata": {
        "id": "VL3g9oSqmGrs",
        "colab_type": "code",
        "colab": {}
      },
      "cell_type": "code",
      "source": [
        ""
      ],
      "execution_count": 0,
      "outputs": []
    },
    {
      "metadata": {
        "id": "KP9qxFPSlOLU",
        "colab_type": "text"
      },
      "cell_type": "markdown",
      "source": [
        "# Filter\n",
        "\n",
        "Only access the rows or columns of a pandas `DataFrame` that you want.\n",
        "\n",
        "Load `https://www.dropbox.com/s/xcqdya9svj04kwc/example5.csv?raw=1` for these examples."
      ]
    },
    {
      "metadata": {
        "id": "liOkoTZ8mHQI",
        "colab_type": "code",
        "colab": {}
      },
      "cell_type": "code",
      "source": [
        "# Print only the third column\n",
        "\n",
        "# Print columns 'a' and 'message'\n",
        "\n",
        "# Print the first row\n",
        "\n",
        "# Print the first and third rows"
      ],
      "execution_count": 0,
      "outputs": []
    },
    {
      "metadata": {
        "id": "mxUpn420lP59",
        "colab_type": "text"
      },
      "cell_type": "markdown",
      "source": [
        "# Treat\n",
        "\n",
        "Load `https://www.dropbox.com/s/9cljswede6r25ho/example5.csv?raw=1` for these examples\n"
      ]
    },
    {
      "metadata": {
        "id": "WBb8H6tkmH6T",
        "colab_type": "code",
        "colab": {}
      },
      "cell_type": "code",
      "source": [
        "# Print the sum of NaN values in each column\n",
        "\n",
        "# Drop all ROWS that contain NaN and print the result\n",
        "\n",
        "# Replace all cells containing NaN using ffill"
      ],
      "execution_count": 0,
      "outputs": []
    },
    {
      "metadata": {
        "id": "ZfzfsBBClQ5x",
        "colab_type": "text"
      },
      "cell_type": "markdown",
      "source": [
        "# De-Duplicate\n",
        "\n",
        "Load `https://www.dropbox.com/s/5m89vi5qgu4g2cd/duped.csv?raw=1` for the following"
      ]
    },
    {
      "metadata": {
        "id": "iOcIwiv1mIxu",
        "colab_type": "code",
        "colab": {}
      },
      "cell_type": "code",
      "source": [
        "# Print the contents of the dataframe after having dropped all duplicate rows"
      ],
      "execution_count": 0,
      "outputs": []
    },
    {
      "metadata": {
        "id": "21F_A3RflSCs",
        "colab_type": "text"
      },
      "cell_type": "markdown",
      "source": [
        "# Concatenate\n",
        "\n",
        "Merge the Titanic and OKC datasets by `age` using `pd.merge` and the `on` argument."
      ]
    },
    {
      "metadata": {
        "id": "19S20aDBmJed",
        "colab_type": "code",
        "colab": {}
      },
      "cell_type": "code",
      "source": [
        "Titanic = pd.DataFrame({\n",
        "    'age': [29, 24, 23, 38, 48, 44],\n",
        "    'name': ['alpha', 'nu', 'gamma', 'psi', 'theta', 'rho']\n",
        "})\n",
        "OKC = pd.DataFrame({\n",
        "    'age': [48, 44, 38, 29, 24, 23],\n",
        "    'alive': [False, True, False, True, False, True]\n",
        "})\n",
        "\n",
        "# Merge and print the result"
      ],
      "execution_count": 0,
      "outputs": []
    },
    {
      "metadata": {
        "id": "iqmdnZPmlWGR",
        "colab_type": "text"
      },
      "cell_type": "markdown",
      "source": [
        "# Transform\n",
        "\n",
        "Use `groupby` to separate the following dataframe by `speed`."
      ]
    },
    {
      "metadata": {
        "id": "tvIxhVBomKK8",
        "colab_type": "code",
        "colab": {}
      },
      "cell_type": "code",
      "source": [
        "Rockets = pd.DataFrame({\n",
        "   'speed': ['fast', 'fast', 'fast', 'slow', 'slow'],\n",
        "   'engine': ['XX9', '24-Bravo', 'Lambda Nu', 'X1', 'XX8'],\n",
        "   'name': ['Musky', 'NASO', 'COSMO', 'Zucc', 'Dragon egg']\n",
        "})\n",
        "\n",
        "# `groupby` and store the result.\n",
        "\n",
        "# Iterate over each result and print it on its own line/s"
      ],
      "execution_count": 0,
      "outputs": []
    },
    {
      "metadata": {
        "id": "tgun1gesteJ-",
        "colab_type": "text"
      },
      "cell_type": "markdown",
      "source": [
        "# Draw an oblique topology\n",
        "\n",
        "The Mexican Hat Filter or Laplacian of Gaussian is used for cleaning up noisy 2d data, such as in images. It makes a pretty cool 3d graph.\n",
        "\n",
        "Plot the filter that is returned by the defined function. The range of the function as defined should be interesting from approximately -1 to 1"
      ]
    },
    {
      "metadata": {
        "id": "zvBfCes5td6j",
        "colab_type": "code",
        "colab": {}
      },
      "cell_type": "code",
      "source": [
        "def laplacian_of_gaussian(x,y):\n",
        "    sigma = 0.3\n",
        "    return 1/np.pi*sigma * (1-0.5*((x**2 + y**2)/sigma**2)) * np.exp(-((x**2+y**2)/(2*sigma**2)))\n",
        "\n",
        "import matplotlib.pyplot as plt\n",
        "from mpl_toolkits import mplot3d\n",
        "\n",
        "ax = plt.axes(projection='3d')"
      ],
      "execution_count": 0,
      "outputs": []
    },
    {
      "metadata": {
        "id": "OTJuN6e9x2e1",
        "colab_type": "text"
      },
      "cell_type": "markdown",
      "source": [
        "# Pairplot to find clusters\n",
        "\n",
        "Clusters have a normal shape along each axis. Pairplot the following data and manually print which axes are normal.\n",
        "\n",
        "Read your data from `https://www.dropbox.com/s/ziqwkm163ih96v0/sprint_challenge_data.csv?raw=1`"
      ]
    },
    {
      "metadata": {
        "id": "9RPRox4Zz3pA",
        "colab_type": "code",
        "colab": {}
      },
      "cell_type": "code",
      "source": [
        "import seaborn as sns\n",
        "\n",
        "# Pairplot via seaborn"
      ],
      "execution_count": 0,
      "outputs": []
    },
    {
      "metadata": {
        "id": "10f2A_XPz4Nh",
        "colab_type": "text"
      },
      "cell_type": "markdown",
      "source": [
        "# Plot clusters together\n",
        "\n",
        "You found the clusters. Draw them on the same graph."
      ]
    },
    {
      "metadata": {
        "id": "IxEQqhApz95b",
        "colab_type": "code",
        "colab": {}
      },
      "cell_type": "code",
      "source": [
        "# Plot clusters"
      ],
      "execution_count": 0,
      "outputs": []
    }
  ]
}