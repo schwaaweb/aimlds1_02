{
  "nbformat": 4,
  "nbformat_minor": 0,
  "metadata": {
    "colab": {
      "name": "Data Visualization Coding Challenge - Separating Clusters.ipynb",
      "version": "0.3.2",
      "provenance": [],
      "collapsed_sections": []
    },
    "kernelspec": {
      "name": "python3",
      "display_name": "Python 3"
    }
  },
  "cells": [
    {
      "cell_type": "markdown",
      "metadata": {
        "id": "view-in-github",
        "colab_type": "text"
      },
      "source": [
        "[View in Colaboratory](https://colab.research.google.com/github/schwaaweb/aimlds1_02/blob/master/TH02_CC--Data_Visualization_Coding_Challenge_Separating_Clusters.ipynb)"
      ]
    },
    {
      "metadata": {
        "id": "CrFTR20wVUhb",
        "colab_type": "text"
      },
      "cell_type": "markdown",
      "source": [
        "# randomizer\n",
        "\n",
        "The following `randomizer` class may look familiar to you. Below is its definition, followed by three examples of its use.\n",
        "\n",
        "Scan through this example, then continue on with the challenge. Don't bother trying to comprehend every line of the randomizer code,\n",
        "but make an effort to understand what each function creates based on its arguments, from the examples."
      ]
    },
    {
      "metadata": {
        "id": "il2t9d_5ToJj",
        "colab_type": "text"
      },
      "cell_type": "markdown",
      "source": [
        "Generate randomized datasets:"
      ]
    },
    {
      "metadata": {
        "id": "2tkwcjU7T9cJ",
        "colab_type": "code",
        "colab": {}
      },
      "cell_type": "code",
      "source": [
        "import numpy as np\n",
        "import pandas as pd\n",
        "import matplotlib.pyplot as plt"
      ],
      "execution_count": 0,
      "outputs": []
    },
    {
      "metadata": {
        "id": "yZD3NPMQTlE2",
        "colab_type": "code",
        "colab": {}
      },
      "cell_type": "code",
      "source": [
        "####################\n",
        "# randomizer\n",
        "####################\n",
        "class randomizer():\n",
        "    def randomlinear(self,numberofpoints=10,slope=1/2,noise=1.0):\n",
        "      x = np.arange(0,numberofpoints)\n",
        "      noisex = np.random.random(numberofpoints)*noise\n",
        "      noisey = np.random.random(numberofpoints)*noise\n",
        "      y = ((x+noisex*0.5)*slope)+noisey\n",
        "      x = x/(np.random.random(1)/10)\n",
        "      y = y/(np.random.random(1)/10)\n",
        "      permutation = np.random.permutation(numberofpoints)\n",
        "      return pd.DataFrame([x[permutation],y[permutation]])\n",
        "\n",
        "    def randompolynomial(self,numberofpoints=10,degree=2,noise=3.0):\n",
        "      x = np.arange(0,numberofpoints)\n",
        "      noisex = np.random.random(numberofpoints)*noise\n",
        "      noisey = np.random.random(numberofpoints)*noise\n",
        "      y = ((x+noisex)**degree)+noisey\n",
        "      x = x/(np.random.random(1)/10)\n",
        "      y = y/(np.random.random(1)/10)\n",
        "      permutation = np.random.permutation(numberofpoints)\n",
        "      return pd.DataFrame([x[permutation],y[permutation]])\n",
        "\n",
        "    def randomnormal(self,numberofpoints=10,mean=[0,0],cov=[[1,0],[0,1]]):\n",
        "      return pd.DataFrame(np.random.multivariate_normal(mean, cov, numberofpoints).T)\n",
        "randomizer = randomizer()"
      ],
      "execution_count": 0,
      "outputs": []
    },
    {
      "metadata": {
        "id": "Tc1_Loj-WX-1",
        "colab_type": "text"
      },
      "cell_type": "markdown",
      "source": [
        "## randomizer.randomlinear"
      ]
    },
    {
      "metadata": {
        "id": "qI6jTaeJUijt",
        "colab_type": "code",
        "colab": {
          "base_uri": "https://localhost:8080/",
          "height": 364
        },
        "outputId": "03386fce-2f61-48d4-f93d-e4d5c0d24891"
      },
      "cell_type": "code",
      "source": [
        "data = randomizer.randomlinear(numberofpoints=20,slope=3)\n",
        "plt.plot(data.iloc[0,:],data.iloc[1,:],'o')"
      ],
      "execution_count": 7,
      "outputs": [
        {
          "output_type": "execute_result",
          "data": {
            "text/plain": [
              "[<matplotlib.lines.Line2D at 0x7f7b0f947048>]"
            ]
          },
          "metadata": {
            "tags": []
          },
          "execution_count": 7
        },
        {
          "output_type": "display_data",
          "data": {
            "image/png": "[encoded data removed]",
            "text/plain": [
              "<matplotlib.figure.Figure at 0x7f7b31a12f60>"
            ]
          },
          "metadata": {
            "tags": []
          }
        }
      ]
    },
    {
      "metadata": {
        "id": "CYjy9ByBWgyj",
        "colab_type": "text"
      },
      "cell_type": "markdown",
      "source": [
        "## randomizer.randompolynomial"
      ]
    },
    {
      "metadata": {
        "id": "VWJIXYmUVjqd",
        "colab_type": "code",
        "colab": {
          "base_uri": "https://localhost:8080/",
          "height": 364
        },
        "outputId": "bbc2e4c5-1a68-41d1-9c59-e2f48f39a0ab"
      },
      "cell_type": "code",
      "source": [
        "data = randomizer.randompolynomial(numberofpoints=200)\n",
        "plt.plot(data.iloc[0,:],data.iloc[1,:],'o')"
      ],
      "execution_count": 11,
      "outputs": [
        {
          "output_type": "execute_result",
          "data": {
            "text/plain": [
              "[<matplotlib.lines.Line2D at 0x7f7b0f7bb7f0>]"
            ]
          },
          "metadata": {
            "tags": []
          },
          "execution_count": 11
        },
        {
          "output_type": "display_data",
          "data": {
            "image/png": "[encoded data removed]",
            "text/plain": [
              "<matplotlib.figure.Figure at 0x7f7b0f828cc0>"
            ]
          },
          "metadata": {
            "tags": []
          }
        }
      ]
    },
    {
      "metadata": {
        "id": "9K2vfNSSWj_m",
        "colab_type": "text"
      },
      "cell_type": "markdown",
      "source": [
        "## randomizer.randomnormal"
      ]
    },
    {
      "metadata": {
        "id": "I9XF5U3vUmN1",
        "colab_type": "code",
        "colab": {
          "base_uri": "https://localhost:8080/",
          "height": 364
        },
        "outputId": "b90beaa2-7e88-4b2e-d78d-e445497334e0"
      },
      "cell_type": "code",
      "source": [
        "data = randomizer.randomnormal(numberofpoints=200,mean=[0,0],cov=[[1,0],[0,1]])\n",
        "plt.plot(data.iloc[0,:],data.iloc[1,:],'o')"
      ],
      "execution_count": 12,
      "outputs": [
        {
          "output_type": "execute_result",
          "data": {
            "text/plain": [
              "[<matplotlib.lines.Line2D at 0x7f7b0f79b2e8>]"
            ]
          },
          "metadata": {
            "tags": []
          },
          "execution_count": 12
        },
        {
          "output_type": "display_data",
          "data": {
            "image/png": "[encoded data removed]",
            "text/plain": [
              "<matplotlib.figure.Figure at 0x7f7b0f7f75f8>"
            ]
          },
          "metadata": {
            "tags": []
          }
        }
      ]
    },
    {
      "metadata": {
        "id": "hmOGJvjTWoHT",
        "colab_type": "text"
      },
      "cell_type": "markdown",
      "source": [
        "# Coding Challenge\n",
        "\n",
        "Use `randomizer` to create three datasets:\n",
        "\n",
        "* two normal distributions $a$ and $b$\n",
        "* a linear or polynomial dataset $s$ that draws a line between $a$ and $b$ such that all $a$ are one one side of $s$ and all $b$ are on the other.\n",
        "\n",
        "The primary concerns here are the `mean` of the normal distributions as this determines their centroid, where the points are located, and the slope and noise of the line $s$ that separates them. You can change the $y$ intercept of $s$ simply by adding [0,1]*b to it."
      ]
    },
    {
      "metadata": {
        "id": "w9J9C1xQXXiA",
        "colab_type": "code",
        "colab": {}
      },
      "cell_type": "code",
      "source": [
        "# Create your datasets here and plot them."
      ],
      "execution_count": 0,
      "outputs": []
    },
    {
      "metadata": {
        "id": "0S8i6fcnXbV_",
        "colab_type": "text"
      },
      "cell_type": "markdown",
      "source": [
        "# Coding Challenge Part 2\n",
        "\n",
        "Now that you've plotted two sets of data (or clusters) and a line that perfectly separates them, create two new sets of data that can't be perfectly separated.\n",
        "The `cov` matrix to `randomnormal` determines how large the cloud of points is. If the two point clouds overlap, no linear function and most likely no polynomial function can separate them."
      ]
    },
    {
      "metadata": {
        "id": "fJIhM48EXxNB",
        "colab_type": "code",
        "colab": {}
      },
      "cell_type": "code",
      "source": [
        "# Create two datasets that can't be perfectly separated. Draw a line using randomlinear or randompolynomial that makes a best-attempt at separating them."
      ],
      "execution_count": 0,
      "outputs": []
    },
    {
      "metadata": {
        "id": "5-xdejp1X449",
        "colab_type": "text"
      },
      "cell_type": "markdown",
      "source": [
        "## Clean up\n",
        "\n",
        "Go back and beautify your charts. Color the clusters so that they are easy to distinguish as separate groups. Customize your title, axes, x and y labels, and legend to create a compelling visual description.\n",
        "\n",
        "Use the following demo chart for some awesome techniques at writing great chart customizations:\n",
        "\n",
        "[Heavily Annotated Matplotlib Example](https://matplotlib.org/examples/showcase/anatomy.html)"
      ]
    }
  ]
}