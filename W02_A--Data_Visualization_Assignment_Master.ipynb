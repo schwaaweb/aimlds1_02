{
  "nbformat": 4,
  "nbformat_minor": 0,
  "metadata": {
    "colab": {
      "name": "Data Visualization Assignment - Master.ipynb",
      "version": "0.3.2",
      "provenance": [],
      "collapsed_sections": []
    },
    "kernelspec": {
      "name": "python3",
      "display_name": "Python 3"
    }
  },
  "cells": [
    {
      "cell_type": "markdown",
      "metadata": {
        "id": "view-in-github",
        "colab_type": "text"
      },
      "source": [
        "[View in Colaboratory](https://colab.research.google.com/github/schwaaweb/aimlds1_02/blob/master/W02_A--Data_Visualization_Assignment_Master.ipynb)"
      ]
    },
    {
      "metadata": {
        "id": "r5CFKRbNNzap",
        "colab_type": "text"
      },
      "cell_type": "markdown",
      "source": [
        "https://youtu.be/igOZIsa9yjY\n",
        "\n",
        "# Data Visualization\n",
        "\n",
        "Very little machine learning or data science takes place without visualizations. Visualizations help us comprehend our data, segment it, and eventually transform it in a way that allows ML algorithms to produce insights.\n",
        "\n",
        "The fundamental visualizations are:\n",
        "\n",
        "* [line charts](https://jakevdp.github.io/PythonDataScienceHandbook/04.01-simple-line-plots.html)\n",
        "* [scatter plots](https://jakevdp.github.io/PythonDataScienceHandbook/04.02-simple-scatter-plots.html)\n",
        "* [bar charts](https://jakevdp.github.io/PythonDataScienceHandbook/04.03-errorbars.html)\n",
        "\n",
        "Visualizations are useful in\n",
        "\n",
        "* 2 dimensions\n",
        "* [3 dimensions](https://jakevdp.github.io/PythonDataScienceHandbook/04.12-three-dimensional-plotting.html)\n",
        "* [images](https://matplotlib.org/users/image_tutorial.html)\n",
        "\n",
        "Visualizations are highlighted by\n",
        "\n",
        "* [color](https://jakevdp.github.io/PythonDataScienceHandbook/04.07-customizing-colorbars.html)\n",
        "* [axis size and spacing](https://jakevdp.github.io/PythonDataScienceHandbook/04.10-customizing-ticks.html)\n",
        "* [legends](https://jakevdp.github.io/PythonDataScienceHandbook/04.06-customizing-legends.html)\n",
        "* [annotations](https://jakevdp.github.io/PythonDataScienceHandbook/04.08-multiple-subplots.html)\n",
        "* [subplots](https://jakevdp.github.io/PythonDataScienceHandbook/04.08-multiple-subplots.html)\n",
        "\n",
        "In this assignment, you will use visualizations to explore the titanic and okcupid datasets, looking for linear, polynomial, or gaussian-like relationships. Every other relationship looks like noise."
      ]
    },
    {
      "metadata": {
        "id": "8fzKIqnA0Ijk",
        "colab_type": "text"
      },
      "cell_type": "markdown",
      "source": [
        "## Assignment\n",
        "\n",
        "The following dataset contains a number of hidden functions. Use bar plots, scatter plots, and line plots to explore the dataset, looking for relationships. When you discover a relationship, you will know it.\n",
        "\n",
        "It is possible to create a 2d graph for every pair of columns, and a 3d graph for every triple of columns. This would produce `10 choose 2` 2d graphs and `10 choose 3` 3d graphs. See if you can find the functions in this dataset through visualization. Make as many visualizations as you like."
      ]
    },
    {
      "metadata": {
        "id": "9_8l9UGk0YGi",
        "colab_type": "text"
      },
      "cell_type": "markdown",
      "source": [
        ""
      ]
    },
    {
      "metadata": {
        "id": "aryJkHTuy9-k",
        "colab_type": "code",
        "colab": {
          "base_uri": "https://localhost:8080/",
          "height": 538
        },
        "outputId": "1be4fd8f-8fc0-409d-f365-2c2190f48ef8"
      },
      "cell_type": "code",
      "source": [
        "import numpy as np\n",
        "import pandas as pd\n",
        "import matplotlib.pyplot as plt\n",
        "\n",
        "data = pd.read_csv('https://www.dropbox.com/s/4jgheggd1dak5pw/data_visualization.csv?raw=1', index_col=0)\n",
        "print(data.columns)\n",
        "print(data.head(5))\n",
        "\n",
        "# plot the data until you intuit information from it"
      ],
      "execution_count": 1,
      "outputs": [
        {
          "output_type": "stream",
          "text": [
            "Index(['night', 'slice', 'height', 'wind', 'alpha', 'x', 'length', 'y',\n",
            "       'under', 'dataset', 'interior', 'pi', 'theta', 'rho', 'nu', 'arrow',\n",
            "       'delta'],\n",
            "      dtype='object')\n",
            "       night         slice        height          wind        alpha  \\\n",
            "0   7.192724   5590.286963  3.677346e+05  15874.681584   288.844905   \n",
            "1   7.965880  25839.548627  7.779735e+06   9731.870015  1327.648026   \n",
            "2  12.649505  29783.806651  1.036852e+07   9961.937864  1497.827365   \n",
            "3   6.020414  10870.002427  1.383920e+06  13044.847041   323.124781   \n",
            "4  10.966374  29566.406602  1.017405e+07   5728.689441   485.635683   \n",
            "\n",
            "           x    length          y     under      dataset      interior  \\\n",
            "0  10.791882 -0.092260 -54.865187 -1.454278  9511.765099  1.028905e+10   \n",
            "1   6.764308  0.153516   7.928925  0.391918  7178.690641  4.472129e+09   \n",
            "2  14.004564  1.369974 -60.682680  1.091300  7298.335485  4.658803e+09   \n",
            "3   9.359527 -1.176298   8.748563 -0.114204  5276.337621  1.754074e+09   \n",
            "4  10.127836 -1.083204 -38.061848  0.846972  1148.590503  1.971619e+07   \n",
            "\n",
            "           pi         theta         rho            nu         arrow  \\\n",
            "0  513.396285  7.789097e+06  104.555195  7.144070e+07  19705.401491   \n",
            "1  180.815877  2.812274e+06  104.880505  3.104463e+07  12124.208351   \n",
            "2  258.675569  6.091894e+06  270.704020  3.620836e+07  12411.080891   \n",
            "3   84.195988  6.969192e+05  423.431057  2.366268e+06  16191.214414   \n",
            "4  640.008215  4.468482e+06  447.661726  1.427828e+07   7153.543024   \n",
            "\n",
            "        delta  \n",
            "0 -177.307810  \n",
            "1   54.341522  \n",
            "2 -130.002851  \n",
            "3  -42.515638  \n",
            "4 -119.907955  \n"
          ],
          "name": "stdout"
        }
      ]
    },
    {
      "metadata": {
        "id": "SVye8E071Lzz",
        "colab_type": "text"
      },
      "cell_type": "markdown",
      "source": [
        "# Visualize your result\n",
        "\n",
        "Draw a single plot containing multiple datasets in different colors and styles. You can use subplots, different colors and symbols, and one or more legends to create an attractive plot. Summarize any knowledge you have gained about the dataset verbally."
      ]
    },
    {
      "metadata": {
        "id": "7t_bpF_pQ2Ti",
        "colab_type": "text"
      },
      "cell_type": "markdown",
      "source": [
        "# Thinking about your assignment\n",
        "\n",
        "1. What is this assignment asking for? What programming elements are required, like graphing, dataset manipulation, and intuition should I be looking for? What python functions will be required? Why is visualization important?\n",
        "2. Make a list of the first four steps I need to take in order to explore and solve this assignment:\n",
        "3. What do I want to have accomplished when I have finished this assignment?\n"
      ]
    },
    {
      "metadata": {
        "id": "4KNWuc1yQ6sx",
        "colab_type": "text"
      },
      "cell_type": "markdown",
      "source": [
        "# Googling about your assignment\n",
        "\n",
        "```\n",
        "python bar chart\n",
        "python scatter plot\n",
        "python plotting dataset\n",
        "matplotlib legend\n",
        "matplotlib subplot\n",
        "beautiful python graphs\n",
        "```"
      ]
    },
    {
      "metadata": {
        "id": "fkdKuFG63UUZ",
        "colab_type": "text"
      },
      "cell_type": "markdown",
      "source": [
        "# Stretch goal\n",
        "\n",
        "So, you found all of the relationships in the toy dataset! Try doing the same thing with the titanic set and okcupid. Use categorical data as color indices into your graph! You can plot all three ticket classes aboard the titanic using the same graph to gain even deeper intuitions."
      ]
    }
  ]
}