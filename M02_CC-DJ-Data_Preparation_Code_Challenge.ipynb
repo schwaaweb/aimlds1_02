{
  "nbformat": 4,
  "nbformat_minor": 0,
  "metadata": {
    "colab": {
      "name": "Data Preparation Code Challenge.ipynb",
      "version": "0.3.2",
      "provenance": [],
      "collapsed_sections": []
    },
    "kernelspec": {
      "name": "python3",
      "display_name": "Python 3"
    }
  },
  "cells": [
    {
      "cell_type": "markdown",
      "metadata": {
        "id": "view-in-github",
        "colab_type": "text"
      },
      "source": [
        "[View in Colaboratory](https://colab.research.google.com/github/schwaaweb/aimlds1_02/blob/master/M02_CC-DJ-Data_Preparation_Code_Challenge.ipynb)"
      ]
    },
    {
      "metadata": {
        "id": "PECjvvnAAkV2",
        "colab_type": "text"
      },
      "cell_type": "markdown",
      "source": [
        "\n",
        "Replace the missing values in the attached data set with the median of the age and salary columns respectively.\n",
        "\n",
        "The data set is posted here:\n",
        "\n",
        "https://www.dropbox.com/s/91tthp8h6hgxzi6/Data-CodeChallenge1.csv?raw=1\n",
        "\n",
        "*Hint*: https://chrisalbon.com/machine_learning/preprocessing_structured_data/impute_missing_values_with_means/\n",
        "\n",
        "Utilize the Imputer class from the sklearn.preprocessing page\n",
        " \n",
        "*API documentation*: http://scikit-learn.org/stable/modules/generated/sklearn.preprocessing.Imputer.html\n",
        "\n",
        "\n"
      ]
    },
    {
      "metadata": {
        "id": "ujC8Ge9uBsEr",
        "colab_type": "code",
        "colab": {
          "base_uri": "https://localhost:8080/",
          "height": 204
        },
        "outputId": "c371e22f-7b63-47f6-9d78-1f71f992c69f"
      },
      "cell_type": "code",
      "source": [
        "import pandas as pd\n",
        "import numpy as np\n",
        "from sklearn.preprocessing import Imputer\n",
        "\n",
        "# added usecols below because the first rows of strings was causing an error\n",
        "# removed in deference to Thomson's solution \n",
        "# , usecols=['Age','Salary']\n",
        "\n",
        "dataset = pd.read_csv('https://www.dropbox.com/s/91tthp8h6hgxzi6/Data-CodeChallenge1.csv?raw=1') \n",
        "\n",
        "print(dataset)"
      ],
      "execution_count": 23,
      "outputs": [
        {
          "output_type": "stream",
          "text": [
            "  Cities in East Bay   Age    Salary Own Home?\n",
            "0         Pleasanton  44.0  172000.0        No\n",
            "1       Walnut Creek  27.0  148000.0       Yes\n",
            "2             Dublin  30.0  154000.0        No\n",
            "3       Walnut Creek  38.0  161000.0        No\n",
            "4             Dublin  40.0       NaN       Yes\n",
            "5         Pleasanton  35.0  158000.0       Yes\n",
            "6       Walnut Creek   NaN  152000.0        No\n",
            "7         Pleasanton  48.0  179000.0       Yes\n",
            "8             Dublin  50.0  183000.0        No\n",
            "9         Pleasanton  37.0  167000.0       Yes\n"
          ],
          "name": "stdout"
        }
      ]
    },
    {
      "metadata": {
        "id": "mRNmkxcd_NaA",
        "colab_type": "code",
        "colab": {
          "base_uri": "https://localhost:8080/",
          "height": 445
        },
        "outputId": "f7f6ada5-3fec-463b-e84e-2f5fa20c15b5"
      },
      "cell_type": "code",
      "source": [
        "print(dataset.axes) # what does the array look like\n",
        "print(dataset)\n",
        "print(dataset.iloc[:,[1,2]].axes)\n",
        "print(dataset.iloc[:,[1,2]])\n",
        "dataset_working = dataset.iloc[:,[1,2]]"
      ],
      "execution_count": 26,
      "outputs": [
        {
          "output_type": "stream",
          "text": [
            "[RangeIndex(start=0, stop=10, step=1), Index(['Cities in East Bay', 'Age', 'Salary', 'Own Home?'], dtype='object')]\n",
            "  Cities in East Bay   Age    Salary Own Home?\n",
            "0         Pleasanton  44.0  172000.0        No\n",
            "1       Walnut Creek  27.0  148000.0       Yes\n",
            "2             Dublin  30.0  154000.0        No\n",
            "3       Walnut Creek  38.0  161000.0        No\n",
            "4             Dublin  40.0       NaN       Yes\n",
            "5         Pleasanton  35.0  158000.0       Yes\n",
            "6       Walnut Creek   NaN  152000.0        No\n",
            "7         Pleasanton  48.0  179000.0       Yes\n",
            "8             Dublin  50.0  183000.0        No\n",
            "9         Pleasanton  37.0  167000.0       Yes\n",
            "[RangeIndex(start=0, stop=10, step=1), Index(['Age', 'Salary'], dtype='object')]\n",
            "    Age    Salary\n",
            "0  44.0  172000.0\n",
            "1  27.0  148000.0\n",
            "2  30.0  154000.0\n",
            "3  38.0  161000.0\n",
            "4  40.0       NaN\n",
            "5  35.0  158000.0\n",
            "6   NaN  152000.0\n",
            "7  48.0  179000.0\n",
            "8  50.0  183000.0\n",
            "9  37.0  167000.0\n"
          ],
          "name": "stdout"
        }
      ]
    },
    {
      "metadata": {
        "id": "7ybRsjcP_SID",
        "colab_type": "code",
        "colab": {
          "base_uri": "https://localhost:8080/",
          "height": 17
        },
        "outputId": "59113a04-021b-4de7-9c34-0261baab5c45"
      },
      "cell_type": "code",
      "source": [
        "imputer_mean = Imputer(missing_values='NaN', strategy='mean', axis=0) # axis=0 is columns\n",
        "imputer_mean = imputer_mean.fit(dataset_working) # train the data here\n",
        "imputed_dataset = imputer_mean.transform(dataset_working.values) # transform the data here"
      ],
      "execution_count": 27,
      "outputs": []
    },
    {
      "metadata": {
        "id": "a4d3abtEATMP",
        "colab_type": "code",
        "colab": {
          "base_uri": "https://localhost:8080/",
          "height": 187
        },
        "outputId": "7ddf254e-b907-4e2d-8175-b6cf95b21de6"
      },
      "cell_type": "code",
      "source": [
        "print(imputed_dataset) # results"
      ],
      "execution_count": 28,
      "outputs": [
        {
          "output_type": "stream",
          "text": [
            "[[4.40000000e+01 1.72000000e+05]\n",
            " [2.70000000e+01 1.48000000e+05]\n",
            " [3.00000000e+01 1.54000000e+05]\n",
            " [3.80000000e+01 1.61000000e+05]\n",
            " [4.00000000e+01 1.63777778e+05]\n",
            " [3.50000000e+01 1.58000000e+05]\n",
            " [3.87777778e+01 1.52000000e+05]\n",
            " [4.80000000e+01 1.79000000e+05]\n",
            " [5.00000000e+01 1.83000000e+05]\n",
            " [3.70000000e+01 1.67000000e+05]]\n"
          ],
          "name": "stdout"
        }
      ]
    },
    {
      "metadata": {
        "id": "ihI6TNeQDyIj",
        "colab_type": "code",
        "colab": {
          "base_uri": "https://localhost:8080/",
          "height": 204
        },
        "outputId": "b48316b2-e3e5-4a47-8f11-389574b6fa2d"
      },
      "cell_type": "code",
      "source": [
        "# clean up the decimal places and insert the data back into dataset.\n",
        "dataset['Age'] = np.round(imputed_dataset[:,0], decimals=1)\n",
        "dataset['Salary'] = np.round(imputed_dataset[:,1], decimals=2)\n",
        "print(dataset)"
      ],
      "execution_count": 32,
      "outputs": [
        {
          "output_type": "stream",
          "text": [
            "  Cities in East Bay   Age     Salary Own Home?\n",
            "0         Pleasanton  44.0  172000.00        No\n",
            "1       Walnut Creek  27.0  148000.00       Yes\n",
            "2             Dublin  30.0  154000.00        No\n",
            "3       Walnut Creek  38.0  161000.00        No\n",
            "4             Dublin  40.0  163777.78       Yes\n",
            "5         Pleasanton  35.0  158000.00       Yes\n",
            "6       Walnut Creek  38.8  152000.00        No\n",
            "7         Pleasanton  48.0  179000.00       Yes\n",
            "8             Dublin  50.0  183000.00        No\n",
            "9         Pleasanton  37.0  167000.00       Yes\n"
          ],
          "name": "stdout"
        }
      ]
    },
    {
      "metadata": {
        "id": "McmJuUypMGWa",
        "colab_type": "code",
        "colab": {}
      },
      "cell_type": "code",
      "source": [
        ""
      ],
      "execution_count": 0,
      "outputs": []
    }
  ]
}