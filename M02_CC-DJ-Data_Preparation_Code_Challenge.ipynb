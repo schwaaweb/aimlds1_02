{
  "nbformat": 4,
  "nbformat_minor": 0,
  "metadata": {
    "colab": {
      "name": "Data Preparation Code Challenge.ipynb",
      "version": "0.3.2",
      "provenance": [],
      "collapsed_sections": []
    },
    "kernelspec": {
      "name": "python3",
      "display_name": "Python 3"
    }
  },
  "cells": [
    {
      "cell_type": "markdown",
      "metadata": {
        "id": "view-in-github",
        "colab_type": "text"
      },
      "source": [
        "[View in Colaboratory](https://colab.research.google.com/github/schwaaweb/aimlds1_02/blob/master/M02_CC-DJ-Data_Preparation_Code_Challenge.ipynb)"
      ]
    },
    {
      "metadata": {
        "id": "PECjvvnAAkV2",
        "colab_type": "text"
      },
      "cell_type": "markdown",
      "source": [
        "\n",
        "Replace the missing values in the attached data set with the median of the age and salary columns respectively.\n",
        "\n",
        "The data set is posted here:\n",
        "\n",
        "https://www.dropbox.com/s/91tthp8h6hgxzi6/Data-CodeChallenge1.csv?raw=1\n",
        "\n",
        "*Hint*: https://chrisalbon.com/machine_learning/preprocessing_structured_data/impute_missing_values_with_means/\n",
        "\n",
        "Utilize the Imputer class from the sklearn.preprocessing page\n",
        " \n",
        "*API documentation*: http://scikit-learn.org/stable/modules/generated/sklearn.preprocessing.Imputer.html\n",
        "\n",
        "\n"
      ]
    },
    {
      "metadata": {
        "id": "ujC8Ge9uBsEr",
        "colab_type": "code",
        "colab": {
          "base_uri": "https://localhost:8080/",
          "height": 207
        },
        "outputId": "4b0bf489-facc-42d6-db2d-b801e1355a4f"
      },
      "cell_type": "code",
      "source": [
        "import pandas as pd\n",
        "import numpy as np\n",
        "from sklearn.preprocessing import Imputer\n",
        "\n",
        "dataset = pd.read_csv('https://www.dropbox.com/s/91tthp8h6hgxzi6/Data-CodeChallenge1.csv?raw=1')\n",
        "\n",
        "print(dataset)"
      ],
      "execution_count": 2,
      "outputs": [
        {
          "output_type": "stream",
          "text": [
            "  Cities in East Bay   Age    Salary Own Home?\n",
            "0         Pleasanton  44.0  172000.0        No\n",
            "1       Walnut Creek  27.0  148000.0       Yes\n",
            "2             Dublin  30.0  154000.0        No\n",
            "3       Walnut Creek  38.0  161000.0        No\n",
            "4             Dublin  40.0       NaN       Yes\n",
            "5         Pleasanton  35.0  158000.0       Yes\n",
            "6       Walnut Creek   NaN  152000.0        No\n",
            "7         Pleasanton  48.0  179000.0       Yes\n",
            "8             Dublin  50.0  183000.0        No\n",
            "9         Pleasanton  37.0  167000.0       Yes\n"
          ],
          "name": "stdout"
        }
      ]
    }
  ]
}