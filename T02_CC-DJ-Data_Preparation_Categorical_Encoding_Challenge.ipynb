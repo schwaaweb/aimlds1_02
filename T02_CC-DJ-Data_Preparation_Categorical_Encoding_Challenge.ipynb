{
  "nbformat": 4,
  "nbformat_minor": 0,
  "metadata": {
    "colab": {
      "name": "Data Preparation Categorical Encoding Challenge.ipynb",
      "version": "0.3.2",
      "provenance": []
    },
    "kernelspec": {
      "name": "python3",
      "display_name": "Python 3"
    }
  },
  "cells": [
    {
      "cell_type": "markdown",
      "metadata": {
        "id": "view-in-github",
        "colab_type": "text"
      },
      "source": [
        "[View in Colaboratory](https://colab.research.google.com/github/schwaaweb/aimlds1_02/blob/master/T02_CC-DJ-Data_Preparation_Categorical_Encoding_Challenge.ipynb)"
      ]
    },
    {
      "metadata": {
        "id": "Dd-KLrCnex_Z",
        "colab_type": "text"
      },
      "cell_type": "markdown",
      "source": [
        "## Categorical Encodidng\n",
        "\n",
        "In this challenge, we will touch on another data preparation task that you should be aware of. This task revolves around dealing with \"Categorical\" variables. As you already know by now, Machine Learning models are based on mathematical equations. If the underlying data set contains categorical data, then the categorical variables needed to be converted into numbers since a mathematical equation only contains numbers. \n",
        "\n",
        "The data set used in Coding Challenge #1 contains 2 categorical variables i.e. 'Cities in Bay Area' and 'Own Home?'. The first categorical variable contains 3 categories i.e. 'Pleasanton', 'Walnut Creek' and 'Dublin' and the second categorical variable contains 2 categories i.e. 'Yes' and 'No.\n",
        "\n",
        "Ask? Encode the 'Cities in Bay Area' categorical variable into numbers.\n",
        "\n",
        "*Hint*: Utilize the LabelEncoder class from the sklearn.preprocessing page\n",
        "\n",
        "*Additional Resource*: http://pbpython.com/categorical-encoding.html"
      ]
    },
    {
      "metadata": {
        "id": "ELg-MYAmDnLq",
        "colab_type": "code",
        "colab": {
          "base_uri": "https://localhost:8080/",
          "height": 357
        },
        "outputId": "47f3da6e-98c7-4338-8be9-68f67205ebc0"
      },
      "cell_type": "code",
      "source": [
        "import numpy as np\n",
        "import pandas as pd\n",
        "from sklearn.preprocessing import LabelEncoder\n",
        "\n",
        "dataset = pd.read_csv('https://www.dropbox.com/s/ldbp498ukkdy3fd/Data-CodeChallenge2.csv?raw=1')\n",
        "\n",
        "data_series_obj = pd.Series([])\n",
        "data_series_obj = dataset.iloc[:,0:3].values\n",
        "print(data_series_obj)\n",
        "\n",
        "labelencoder = LabelEncoder()\n",
        "data_series_obj[:,0] = labelencoder.fit_transform(data_series_obj[:,0])\n",
        "print(data_series_obj)"
      ],
      "execution_count": 2,
      "outputs": [
        {
          "output_type": "stream",
          "text": [
            "[['Pleasanton' 44 172000]\n",
            " ['Walnut Creek' 27 148000]\n",
            " ['Dublin' 30 154000]\n",
            " ['Walnut Creek' 38 161000]\n",
            " ['Dublin' 40 161000]\n",
            " ['Pleasanton' 35 158000]\n",
            " ['Walnut Creek' 38 152000]\n",
            " ['Pleasanton' 48 179000]\n",
            " ['Dublin' 50 183000]\n",
            " ['Pleasanton' 37 167000]]\n",
            "[[1 44 172000]\n",
            " [2 27 148000]\n",
            " [0 30 154000]\n",
            " [2 38 161000]\n",
            " [0 40 161000]\n",
            " [1 35 158000]\n",
            " [2 38 152000]\n",
            " [1 48 179000]\n",
            " [0 50 183000]\n",
            " [1 37 167000]]\n"
          ],
          "name": "stdout"
        }
      ]
    },
    {
      "metadata": {
        "id": "vGsqVOPhEEeW",
        "colab_type": "text"
      },
      "cell_type": "markdown",
      "source": [
        "## Stretch goal\n",
        "`LabelEncoding` suggests a value difference between different classes. Instead, explore `OneHotEncoder` [OneHotEncoder](http://scikit-learn.org/stable/modules/generated/sklearn.preprocessing.OneHotEncoder.html) to produce categorical labels that are not biased:\n"
      ]
    },
    {
      "metadata": {
        "id": "fLMNpcKOEYUm",
        "colab_type": "code",
        "colab": {
          "base_uri": "https://localhost:8080/",
          "height": 187
        },
        "outputId": "f8ebaf40-9b41-4cbc-9a29-5a5c56740b0a"
      },
      "cell_type": "code",
      "source": [
        "from sklearn.preprocessing import OneHotEncoder\n",
        "\n",
        "onehotencoder = OneHotEncoder(categorical_features=[0])\n",
        "data_series = onehotencoder.fit_transform(data_series_obj).toarray()\n",
        "\n",
        "#np.set_printoptions(formatter={'float_kind':'{:00f}'.format})\n",
        "#np.set_printoptions(suppress=True)\n",
        "np.set_printoptions(precision=6)\n",
        "print(data_series)"
      ],
      "execution_count": 3,
      "outputs": [
        {
          "output_type": "stream",
          "text": [
            "[[0.00e+00 1.00e+00 0.00e+00 4.40e+01 1.72e+05]\n",
            " [0.00e+00 0.00e+00 1.00e+00 2.70e+01 1.48e+05]\n",
            " [1.00e+00 0.00e+00 0.00e+00 3.00e+01 1.54e+05]\n",
            " [0.00e+00 0.00e+00 1.00e+00 3.80e+01 1.61e+05]\n",
            " [1.00e+00 0.00e+00 0.00e+00 4.00e+01 1.61e+05]\n",
            " [0.00e+00 1.00e+00 0.00e+00 3.50e+01 1.58e+05]\n",
            " [0.00e+00 0.00e+00 1.00e+00 3.80e+01 1.52e+05]\n",
            " [0.00e+00 1.00e+00 0.00e+00 4.80e+01 1.79e+05]\n",
            " [1.00e+00 0.00e+00 0.00e+00 5.00e+01 1.83e+05]\n",
            " [0.00e+00 1.00e+00 0.00e+00 3.70e+01 1.67e+05]]\n"
          ],
          "name": "stdout"
        }
      ]
    },
    {
      "metadata": {
        "id": "8ltbyy7fcu_Z",
        "colab_type": "code",
        "colab": {
          "base_uri": "https://localhost:8080/",
          "height": 546
        },
        "outputId": "09e02c63-a224-460b-827a-431de3384e5a"
      },
      "cell_type": "code",
      "source": [
        "df = dataset\n",
        "pd.get_dummies(df, columns=[\"Cities in East Bay\"]).head()\n",
        "\n",
        "#sample.housing.map(dict(yes=1, no=0))\n",
        "df.iloc[:,3] = df.iloc[:,3].map(dict(Yes=1, No=0))\n",
        "\n",
        "dum_pd = pd.get_dummies(df, columns=[\"Cities in East Bay\"], prefix=[\"City\"])\n",
        "\n",
        "print(df)\n",
        "dum_pd\n"
      ],
      "execution_count": 19,
      "outputs": [
        {
          "output_type": "stream",
          "text": [
            "  Cities in East Bay  Age  Salary  Own Home?\n",
            "0         Pleasanton   44  172000          0\n",
            "1       Walnut Creek   27  148000          1\n",
            "2             Dublin   30  154000          0\n",
            "3       Walnut Creek   38  161000          0\n",
            "4             Dublin   40  161000          1\n",
            "5         Pleasanton   35  158000          1\n",
            "6       Walnut Creek   38  152000          0\n",
            "7         Pleasanton   48  179000          1\n",
            "8             Dublin   50  183000          0\n",
            "9         Pleasanton   37  167000          1\n"
          ],
          "name": "stdout"
        },
        {
          "output_type": "execute_result",
          "data": {
            "text/html": [
              "<div>\n",
              "<style scoped>\n",
              "    .dataframe tbody tr th:only-of-type {\n",
              "        vertical-align: middle;\n",
              "    }\n",
              "\n",
              "    .dataframe tbody tr th {\n",
              "        vertical-align: top;\n",
              "    }\n",
              "\n",
              "    .dataframe thead th {\n",
              "        text-align: right;\n",
              "    }\n",
              "</style>\n",
              "<table border=\"1\" class=\"dataframe\">\n",
              "  <thead>\n",
              "    <tr style=\"text-align: right;\">\n",
              "      <th></th>\n",
              "      <th>Age</th>\n",
              "      <th>Salary</th>\n",
              "      <th>Own Home?</th>\n",
              "      <th>City_Dublin</th>\n",
              "      <th>City_Pleasanton</th>\n",
              "      <th>City_Walnut Creek</th>\n",
              "    </tr>\n",
              "  </thead>\n",
              "  <tbody>\n",
              "    <tr>\n",
              "      <th>0</th>\n",
              "      <td>44</td>\n",
              "      <td>172000</td>\n",
              "      <td>0</td>\n",
              "      <td>0</td>\n",
              "      <td>1</td>\n",
              "      <td>0</td>\n",
              "    </tr>\n",
              "    <tr>\n",
              "      <th>1</th>\n",
              "      <td>27</td>\n",
              "      <td>148000</td>\n",
              "      <td>1</td>\n",
              "      <td>0</td>\n",
              "      <td>0</td>\n",
              "      <td>1</td>\n",
              "    </tr>\n",
              "    <tr>\n",
              "      <th>2</th>\n",
              "      <td>30</td>\n",
              "      <td>154000</td>\n",
              "      <td>0</td>\n",
              "      <td>1</td>\n",
              "      <td>0</td>\n",
              "      <td>0</td>\n",
              "    </tr>\n",
              "    <tr>\n",
              "      <th>3</th>\n",
              "      <td>38</td>\n",
              "      <td>161000</td>\n",
              "      <td>0</td>\n",
              "      <td>0</td>\n",
              "      <td>0</td>\n",
              "      <td>1</td>\n",
              "    </tr>\n",
              "    <tr>\n",
              "      <th>4</th>\n",
              "      <td>40</td>\n",
              "      <td>161000</td>\n",
              "      <td>1</td>\n",
              "      <td>1</td>\n",
              "      <td>0</td>\n",
              "      <td>0</td>\n",
              "    </tr>\n",
              "    <tr>\n",
              "      <th>5</th>\n",
              "      <td>35</td>\n",
              "      <td>158000</td>\n",
              "      <td>1</td>\n",
              "      <td>0</td>\n",
              "      <td>1</td>\n",
              "      <td>0</td>\n",
              "    </tr>\n",
              "    <tr>\n",
              "      <th>6</th>\n",
              "      <td>38</td>\n",
              "      <td>152000</td>\n",
              "      <td>0</td>\n",
              "      <td>0</td>\n",
              "      <td>0</td>\n",
              "      <td>1</td>\n",
              "    </tr>\n",
              "    <tr>\n",
              "      <th>7</th>\n",
              "      <td>48</td>\n",
              "      <td>179000</td>\n",
              "      <td>1</td>\n",
              "      <td>0</td>\n",
              "      <td>1</td>\n",
              "      <td>0</td>\n",
              "    </tr>\n",
              "    <tr>\n",
              "      <th>8</th>\n",
              "      <td>50</td>\n",
              "      <td>183000</td>\n",
              "      <td>0</td>\n",
              "      <td>1</td>\n",
              "      <td>0</td>\n",
              "      <td>0</td>\n",
              "    </tr>\n",
              "    <tr>\n",
              "      <th>9</th>\n",
              "      <td>37</td>\n",
              "      <td>167000</td>\n",
              "      <td>1</td>\n",
              "      <td>0</td>\n",
              "      <td>1</td>\n",
              "      <td>0</td>\n",
              "    </tr>\n",
              "  </tbody>\n",
              "</table>\n",
              "</div>"
            ],
            "text/plain": [
              "   Age  Salary  Own Home?  City_Dublin  City_Pleasanton  City_Walnut Creek\n",
              "0   44  172000          0            0                1                  0\n",
              "1   27  148000          1            0                0                  1\n",
              "2   30  154000          0            1                0                  0\n",
              "3   38  161000          0            0                0                  1\n",
              "4   40  161000          1            1                0                  0\n",
              "5   35  158000          1            0                1                  0\n",
              "6   38  152000          0            0                0                  1\n",
              "7   48  179000          1            0                1                  0\n",
              "8   50  183000          0            1                0                  0\n",
              "9   37  167000          1            0                1                  0"
            ]
          },
          "metadata": {
            "tags": []
          },
          "execution_count": 19
        }
      ]
    },
    {
      "metadata": {
        "id": "2nxoXWwIf4EH",
        "colab_type": "code",
        "colab": {}
      },
      "cell_type": "code",
      "source": [
        ""
      ],
      "execution_count": 0,
      "outputs": []
    }
  ]
}