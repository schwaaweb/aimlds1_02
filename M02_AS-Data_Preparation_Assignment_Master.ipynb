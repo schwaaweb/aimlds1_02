{
  "nbformat": 4,
  "nbformat_minor": 0,
  "metadata": {
    "colab": {
      "name": "Solution of Data Preparation Assignment - Master.ipynb",
      "version": "0.3.2",
      "provenance": [],
      "collapsed_sections": []
    },
    "kernelspec": {
      "name": "python3",
      "display_name": "Python 3"
    }
  },
  "cells": [
    {
      "cell_type": "markdown",
      "metadata": {
        "id": "view-in-github",
        "colab_type": "text"
      },
      "source": [
        "[View in Colaboratory](https://colab.research.google.com/github/schwaaweb/aimlds1_02/blob/master/M02_AS-Data_Preparation_Assignment_Master.ipynb)"
      ]
    },
    {
      "metadata": {
        "id": "oDi_fpUsyfmL",
        "colab_type": "text"
      },
      "cell_type": "markdown",
      "source": [
        "https://youtu.be/614nZnNs6Ps\n",
        "\n",
        "# Data Preparation\n",
        "\n",
        "Below are examples of the Titanic dataset, containing passenger records on board the titanic, and the OKCupid dataset, containing records authorized by OKCupid for use in Machine Learning research.\n",
        "\n",
        "Your assignment is to combine the results of the Titanic and OKCupid datasets. You should replace each passenger aboard the titanic and their relevant data with a matching individual from the OKCupid dataset.\n",
        "\n",
        "There should be no duplicates in the remaining dataset, with no NaNs, nulls, or missing information. More specifics at the bottom."
      ]
    },
    {
      "metadata": {
        "id": "pywly5CoyZMG",
        "colab_type": "code",
        "colab": {
          "base_uri": "https://localhost:8080/",
          "height": 240
        },
        "outputId": "e98d78de-2ced-492a-f847-87f9d7b26f82"
      },
      "cell_type": "code",
      "source": [
        "import numpy as np\n",
        "import pandas as pd\n",
        "import seaborn as sns\n",
        "titanic = sns.load_dataset('titanic')\n",
        "\n",
        "\n",
        "# The first few records\n",
        "print(titanic.head())"
      ],
      "execution_count": 0,
      "outputs": [
        {
          "output_type": "stream",
          "text": [
            "   survived  pclass     sex   age  sibsp  parch     fare embarked  class  \\\n",
            "0         0       3    male  22.0      1      0   7.2500        S  Third   \n",
            "1         1       1  female  38.0      1      0  71.2833        C  First   \n",
            "2         1       3  female  26.0      0      0   7.9250        S  Third   \n",
            "3         1       1  female  35.0      1      0  53.1000        S  First   \n",
            "4         0       3    male  35.0      0      0   8.0500        S  Third   \n",
            "\n",
            "     who  adult_male deck  embark_town alive  alone  \n",
            "0    man        True  NaN  Southampton    no  False  \n",
            "1  woman       False    C    Cherbourg   yes  False  \n",
            "2  woman       False  NaN  Southampton   yes   True  \n",
            "3  woman       False    C  Southampton   yes  False  \n",
            "4    man        True  NaN  Southampton    no   True  \n"
          ],
          "name": "stdout"
        }
      ]
    },
    {
      "metadata": {
        "id": "EJREtHLd4VDC",
        "colab_type": "code",
        "colab": {
          "base_uri": "https://localhost:8080/",
          "height": 34
        },
        "outputId": "c400bc9b-468f-40b6-e382-0e7a21014eba"
      },
      "cell_type": "code",
      "source": [
        "# 891 passengers with 15 data entries per\n",
        "print(titanic.shape)"
      ],
      "execution_count": 0,
      "outputs": [
        {
          "output_type": "stream",
          "text": [
            "(891, 15)\n"
          ],
          "name": "stdout"
        }
      ]
    },
    {
      "metadata": {
        "id": "xORLT36EifIx",
        "colab_type": "code",
        "colab": {
          "base_uri": "https://localhost:8080/",
          "height": 519
        },
        "outputId": "f538e19e-6a55-4de4-f1c4-e8823e9eaebd"
      },
      "cell_type": "code",
      "source": [
        "# describe produces interesting statistics about a pandas DataFrame or Series\n",
        "print(titanic.describe(include=[np.number]))\n",
        "\n",
        "import matplotlib.pyplot as plt\n",
        "plt.plot(titanic['fare'],titanic['age'],'or')\n",
        "plt.axvline(titanic['fare'].mean(),color=\"grey\")"
      ],
      "execution_count": 0,
      "outputs": [
        {
          "output_type": "stream",
          "text": [
            "         survived      pclass         age       sibsp       parch        fare\n",
            "count  891.000000  891.000000  714.000000  891.000000  891.000000  891.000000\n",
            "mean     0.383838    2.308642   29.699118    0.523008    0.381594   32.204208\n",
            "std      0.486592    0.836071   14.526497    1.102743    0.806057   49.693429\n",
            "min      0.000000    1.000000    0.420000    0.000000    0.000000    0.000000\n",
            "25%      0.000000    2.000000   20.125000    0.000000    0.000000    7.910400\n",
            "50%      0.000000    3.000000   28.000000    0.000000    0.000000   14.454200\n",
            "75%      1.000000    3.000000   38.000000    1.000000    0.000000   31.000000\n",
            "max      1.000000    3.000000   80.000000    8.000000    6.000000  512.329200\n"
          ],
          "name": "stdout"
        },
        {
          "output_type": "execute_result",
          "data": {
            "text/plain": [
              "<matplotlib.lines.Line2D at 0x7f5c6bdce5f8>"
            ]
          },
          "metadata": {
            "tags": []
          },
          "execution_count": 3
        },
        {
          "output_type": "display_data",
          "data": {
            "image/png": "[encoded data removed]",
            "text/plain": [
              "<matplotlib.figure.Figure at 0x7f5c8bdb9208>"
            ]
          },
          "metadata": {
            "tags": []
          }
        }
      ]
    },
    {
      "metadata": {
        "id": "1c6gV5LejKcb",
        "colab_type": "text"
      },
      "cell_type": "markdown",
      "source": [
        "### OKCupid\n",
        "\n",
        "The OKCupid dataset is 150MB and needs to be downloaded to your Colab session before you can load it. It loads using the same command as the titanic."
      ]
    },
    {
      "metadata": {
        "id": "8e9v96QD9QsC",
        "colab_type": "code",
        "colab": {
          "base_uri": "https://localhost:8080/",
          "height": 311
        },
        "outputId": "29e80d6d-87c3-4f3a-85b0-30a66d15615a"
      },
      "cell_type": "code",
      "source": [
        "!wget https://www.dropbox.com/s/kurta6eazegc3su/JSE_OkCupid_profiles.csv?raw=1 -O /tmp/JSE_OkCupid_profiles.csv"
      ],
      "execution_count": 0,
      "outputs": [
        {
          "output_type": "stream",
          "text": [
            "--2018-04-10 20:46:55--  https://www.dropbox.com/s/kurta6eazegc3su/JSE_OkCupid_profiles.csv?raw=1\n",
            "Resolving www.dropbox.com (www.dropbox.com)... 162.125.1.1, 2620:100:6016:1::a27d:101\n",
            "Connecting to www.dropbox.com (www.dropbox.com)|162.125.1.1|:443... connected.\n",
            "HTTP request sent, awaiting response... 302 Found\n",
            "Location: https://dl.dropboxusercontent.com/content_link/K3TArTln8JbupUYn4mfFwAoXlBSGI0GaCxvyiLwdr59O8M8NQpNeT6SpE3yG5rNq/file [following]\n",
            "--2018-04-10 20:46:56--  https://dl.dropboxusercontent.com/content_link/K3TArTln8JbupUYn4mfFwAoXlBSGI0GaCxvyiLwdr59O8M8NQpNeT6SpE3yG5rNq/file\n",
            "Resolving dl.dropboxusercontent.com (dl.dropboxusercontent.com)... 162.125.1.6, 2620:100:6016:6::a27d:106\n",
            "Connecting to dl.dropboxusercontent.com (dl.dropboxusercontent.com)|162.125.1.6|:443... connected.\n",
            "HTTP request sent, awaiting response... 200 OK\n",
            "Length: 151614805 (145M) [text/csv]\n",
            "Saving to: ‘/tmp/JSE_OkCupid_profiles.csv’\n",
            "\n",
            "/tmp/JSE_OkCupid_pr 100%[===================>] 144.59M  33.8MB/s    in 4.3s    \n",
            "\n",
            "2018-04-10 20:47:01 (33.8 MB/s) - ‘/tmp/JSE_OkCupid_profiles.csv’ saved [151614805/151614805]\n",
            "\n"
          ],
          "name": "stdout"
        }
      ]
    },
    {
      "metadata": {
        "id": "9jKkl2Cy8ySu",
        "colab_type": "code",
        "colab": {
          "base_uri": "https://localhost:8080/",
          "height": 171
        },
        "outputId": "1f7c1cca-e6b1-4721-b75e-f227d1b861bd"
      },
      "cell_type": "code",
      "source": [
        "okcupid = pd.read_csv('/tmp/JSE_OkCupid_profiles.csv')\n",
        "\n",
        "# almost 60000 individuals with 31 columns each\n",
        "print(okcupid.shape)\n",
        "\n",
        "# There are many more columns in OKCupid than titanic\n",
        "print(okcupid.columns)\n",
        "\n",
        "# The set of body_types \n",
        "print(okcupid.body_type.unique())"
      ],
      "execution_count": 0,
      "outputs": [
        {
          "output_type": "stream",
          "text": [
            "(59946, 31)\n",
            "Index(['age', 'body_type', 'diet', 'drinks', 'drugs', 'education', 'essay0',\n",
            "       'essay1', 'essay2', 'essay3', 'essay4', 'essay5', 'essay6', 'essay7',\n",
            "       'essay8', 'essay9', 'ethnicity', 'height', 'income', 'job',\n",
            "       'last_online', 'location', 'offspring', 'orientation', 'pets',\n",
            "       'religion', 'sex', 'sign', 'smokes', 'speaks', 'status'],\n",
            "      dtype='object')\n",
            "['a little extra' 'average' 'thin' 'athletic' 'fit' nan 'skinny' 'curvy'\n",
            " 'full figured' 'jacked' 'rather not say' 'used up' 'overweight']\n"
          ],
          "name": "stdout"
        }
      ]
    },
    {
      "metadata": {
        "id": "C_uI8e20_TVo",
        "colab_type": "code",
        "colab": {
          "base_uri": "https://localhost:8080/",
          "height": 548
        },
        "outputId": "39d2e677-77bc-42ec-d5c4-6e32a9d4e5f4"
      },
      "cell_type": "code",
      "source": [
        "# The number of unique entries for each column\n",
        "for column in okcupid.columns:\n",
        "  print(column, okcupid[column].unique().size)"
      ],
      "execution_count": 0,
      "outputs": [
        {
          "output_type": "stream",
          "text": [
            "age 54\n",
            "body_type 13\n",
            "diet 19\n",
            "drinks 7\n",
            "drugs 4\n",
            "education 33\n",
            "essay0 54351\n",
            "essay1 51517\n",
            "essay2 48636\n",
            "essay3 43534\n",
            "essay4 49261\n",
            "essay5 48964\n",
            "essay6 43604\n",
            "essay7 45555\n",
            "essay8 39325\n",
            "essay9 45444\n",
            "ethnicity 218\n",
            "height 61\n",
            "income 13\n",
            "job 22\n",
            "last_online 30123\n",
            "location 199\n",
            "offspring 16\n",
            "orientation 3\n",
            "pets 16\n",
            "religion 46\n",
            "sex 2\n",
            "sign 49\n",
            "smokes 6\n",
            "speaks 7648\n",
            "status 5\n"
          ],
          "name": "stdout"
        }
      ]
    },
    {
      "metadata": {
        "id": "Tk9Wgi3GDdHz",
        "colab_type": "code",
        "colab": {
          "base_uri": "https://localhost:8080/",
          "height": 600
        },
        "outputId": "d107fef3-7baf-4f0f-bd13-ca1bcb44f6c3"
      },
      "cell_type": "code",
      "source": [
        "print(okcupid[1:10].isnull())"
      ],
      "execution_count": 0,
      "outputs": [
        {
          "output_type": "stream",
          "text": [
            "     age  body_type   diet  drinks  drugs  education  essay0  essay1  essay2  \\\n",
            "1  False      False  False   False  False      False   False   False   False   \n",
            "2  False      False  False   False   True      False   False   False   False   \n",
            "3  False      False  False   False   True      False   False   False   False   \n",
            "4  False      False   True   False  False      False   False   False   False   \n",
            "5  False      False  False   False   True      False   False   False   False   \n",
            "6  False      False  False   False  False      False   False   False   False   \n",
            "7  False      False  False   False  False      False    True   False   False   \n",
            "8  False       True  False   False   True      False    True   False    True   \n",
            "9  False      False  False   False  False      False   False   False   False   \n",
            "\n",
            "   essay3   ...    location  offspring  orientation   pets  religion    sex  \\\n",
            "1    True   ...       False      False        False  False     False  False   \n",
            "2   False   ...       False       True        False  False      True  False   \n",
            "3   False   ...       False      False        False  False      True  False   \n",
            "4   False   ...       False       True        False  False      True  False   \n",
            "5   False   ...       False      False        False  False     False  False   \n",
            "6   False   ...       False       True        False  False      True  False   \n",
            "7   False   ...       False      False        False  False     False  False   \n",
            "8   False   ...       False      False        False  False     False  False   \n",
            "9   False   ...       False       True        False  False     False  False   \n",
            "\n",
            "    sign  smokes  speaks  status  \n",
            "1  False   False   False   False  \n",
            "2  False   False   False   False  \n",
            "3  False   False   False   False  \n",
            "4  False   False   False   False  \n",
            "5  False   False   False   False  \n",
            "6  False    True   False   False  \n",
            "7  False   False   False   False  \n",
            "8  False   False   False   False  \n",
            "9  False   False   False   False  \n",
            "\n",
            "[9 rows x 31 columns]\n"
          ],
          "name": "stdout"
        }
      ]
    },
    {
      "metadata": {
        "id": "59Qnyj9bkUhE",
        "colab_type": "text"
      },
      "cell_type": "markdown",
      "source": [
        "### Duplicates\n",
        "\n",
        "There are no duplicates in OKCupid and 107 titanic duplicates."
      ]
    },
    {
      "metadata": {
        "id": "5Cr0C2rWEsbQ",
        "colab_type": "code",
        "colab": {
          "base_uri": "https://localhost:8080/",
          "height": 51
        },
        "outputId": "def661d3-074c-46dc-a10f-c489f3e9aeac"
      },
      "cell_type": "code",
      "source": [
        "print(okcupid.duplicated().sum())\n",
        "print(titanic.duplicated().sum())"
      ],
      "execution_count": 0,
      "outputs": [
        {
          "output_type": "stream",
          "text": [
            "0\n",
            "107\n"
          ],
          "name": "stdout"
        }
      ]
    },
    {
      "metadata": {
        "id": "87kUO0AppxKK",
        "colab_type": "text"
      },
      "cell_type": "markdown",
      "source": [
        "## Instructions\n",
        "\n",
        "Titanic contains 891 records with 107 duplicates. The final table should contain 784 records. The titanic dataset is also full of  redudant columns: `survived : alive`, `sex : who : adult_male`, which can be identified if they are truly redundant and can be removed if so.\n",
        "\n",
        "The OKCupid dataset has ~60k records. There are 31 columns that match many of the features (importantly age/sex) in the titanic set.\n",
        "\n",
        "Update each row of the titanic dataset to contain OKCupid data that matches in demographic information. Select a few columns from the OKCUpid dataset to transfer to the titanic dataset as well to increase the personality of each entry. Do not move the extremely long written records in the OKCupid dataset as part of this process. Those records will be useful later for NLP and text mining.\n",
        "\n",
        "_Document and justify your decisions!_"
      ]
    },
    {
      "metadata": {
        "id": "FMnMRs4NrpEB",
        "colab_type": "text"
      },
      "cell_type": "markdown",
      "source": [
        "### Benchmark\n",
        "\n",
        "The titanic dataset is very popular for beginning Data Science training.\n",
        "\n",
        "Your final dataset should perfectly match these two obvious and famous benchmarks of the titanic data, with other new, interesting analysis available from your combinations:"
      ]
    },
    {
      "metadata": {
        "id": "jL2b-emDr1Hj",
        "colab_type": "code",
        "colab": {
          "base_uri": "https://localhost:8080/",
          "height": 136
        },
        "outputId": "7466796b-74f5-490c-b55b-f44c24eee599"
      },
      "cell_type": "code",
      "source": [
        "titanic.groupby('sex')[['survived']].mean()"
      ],
      "execution_count": 0,
      "outputs": [
        {
          "output_type": "execute_result",
          "data": {
            "text/html": [
              "<div>\n",
              "<style scoped>\n",
              "    .dataframe tbody tr th:only-of-type {\n",
              "        vertical-align: middle;\n",
              "    }\n",
              "\n",
              "    .dataframe tbody tr th {\n",
              "        vertical-align: top;\n",
              "    }\n",
              "\n",
              "    .dataframe thead th {\n",
              "        text-align: right;\n",
              "    }\n",
              "</style>\n",
              "<table border=\"1\" class=\"dataframe\">\n",
              "  <thead>\n",
              "    <tr style=\"text-align: right;\">\n",
              "      <th></th>\n",
              "      <th>survived</th>\n",
              "    </tr>\n",
              "    <tr>\n",
              "      <th>sex</th>\n",
              "      <th></th>\n",
              "    </tr>\n",
              "  </thead>\n",
              "  <tbody>\n",
              "    <tr>\n",
              "      <th>female</th>\n",
              "      <td>0.742038</td>\n",
              "    </tr>\n",
              "    <tr>\n",
              "      <th>male</th>\n",
              "      <td>0.188908</td>\n",
              "    </tr>\n",
              "  </tbody>\n",
              "</table>\n",
              "</div>"
            ],
            "text/plain": [
              "        survived\n",
              "sex             \n",
              "female  0.742038\n",
              "male    0.188908"
            ]
          },
          "metadata": {
            "tags": []
          },
          "execution_count": 9
        }
      ]
    },
    {
      "metadata": {
        "id": "0EYtEZ6Gr3CC",
        "colab_type": "code",
        "colab": {
          "base_uri": "https://localhost:8080/",
          "height": 136
        },
        "outputId": "2c033870-950a-415c-e379-26cbc1383226"
      },
      "cell_type": "code",
      "source": [
        "titanic.groupby(['sex', 'class'])['survived'].aggregate('mean').unstack()"
      ],
      "execution_count": 0,
      "outputs": [
        {
          "output_type": "execute_result",
          "data": {
            "text/html": [
              "<div>\n",
              "<style scoped>\n",
              "    .dataframe tbody tr th:only-of-type {\n",
              "        vertical-align: middle;\n",
              "    }\n",
              "\n",
              "    .dataframe tbody tr th {\n",
              "        vertical-align: top;\n",
              "    }\n",
              "\n",
              "    .dataframe thead th {\n",
              "        text-align: right;\n",
              "    }\n",
              "</style>\n",
              "<table border=\"1\" class=\"dataframe\">\n",
              "  <thead>\n",
              "    <tr style=\"text-align: right;\">\n",
              "      <th>class</th>\n",
              "      <th>First</th>\n",
              "      <th>Second</th>\n",
              "      <th>Third</th>\n",
              "    </tr>\n",
              "    <tr>\n",
              "      <th>sex</th>\n",
              "      <th></th>\n",
              "      <th></th>\n",
              "      <th></th>\n",
              "    </tr>\n",
              "  </thead>\n",
              "  <tbody>\n",
              "    <tr>\n",
              "      <th>female</th>\n",
              "      <td>0.968085</td>\n",
              "      <td>0.921053</td>\n",
              "      <td>0.500000</td>\n",
              "    </tr>\n",
              "    <tr>\n",
              "      <th>male</th>\n",
              "      <td>0.368852</td>\n",
              "      <td>0.157407</td>\n",
              "      <td>0.135447</td>\n",
              "    </tr>\n",
              "  </tbody>\n",
              "</table>\n",
              "</div>"
            ],
            "text/plain": [
              "class      First    Second     Third\n",
              "sex                                 \n",
              "female  0.968085  0.921053  0.500000\n",
              "male    0.368852  0.157407  0.135447"
            ]
          },
          "metadata": {
            "tags": []
          },
          "execution_count": 10
        }
      ]
    },
    {
      "metadata": {
        "id": "hIImiG28QAb-",
        "colab_type": "text"
      },
      "cell_type": "markdown",
      "source": [
        "### Suggested search terms\n",
        "\n",
        "python pandas replace columns\n",
        "\n",
        "python pandas concatenate columns\n",
        "\n",
        "python pandas concatenate rows\n",
        "\n",
        "python pandas remove duplicates\n",
        "\n",
        "python pandas merge and join records"
      ]
    },
    {
      "metadata": {
        "id": "B14gFGWsWM53",
        "colab_type": "text"
      },
      "cell_type": "markdown",
      "source": [
        "# Drop unneeded Titanic columns.\n",
        "\n",
        "By examining the head of titanic, lets guess which columns are dupes and toss them."
      ]
    },
    {
      "metadata": {
        "id": "26hTYMX9WVSt",
        "colab_type": "code",
        "colab": {
          "base_uri": "https://localhost:8080/",
          "height": 463
        },
        "outputId": "81d2860d-1374-4c2d-db5e-ecc58c4d94bb"
      },
      "cell_type": "code",
      "source": [
        "print(titanic.head())\n",
        "titanic = titanic.drop(['alive','adult_male','who','class'], axis=1)\n",
        "print(titanic.head())"
      ],
      "execution_count": 0,
      "outputs": [
        {
          "output_type": "stream",
          "text": [
            "   survived  pclass     sex   age  sibsp  parch     fare embarked  class  \\\n",
            "0         0       3    male  22.0      1      0   7.2500        S  Third   \n",
            "1         1       1  female  38.0      1      0  71.2833        C  First   \n",
            "2         1       3  female  26.0      0      0   7.9250        S  Third   \n",
            "3         1       1  female  35.0      1      0  53.1000        S  First   \n",
            "4         0       3    male  35.0      0      0   8.0500        S  Third   \n",
            "\n",
            "     who  adult_male deck  embark_town alive  alone  \n",
            "0    man        True  NaN  Southampton    no  False  \n",
            "1  woman       False    C    Cherbourg   yes  False  \n",
            "2  woman       False  NaN  Southampton   yes   True  \n",
            "3  woman       False    C  Southampton   yes  False  \n",
            "4    man        True  NaN  Southampton    no   True  \n",
            "   survived  pclass     sex   age  sibsp  parch     fare embarked deck  \\\n",
            "0         0       3    male  22.0      1      0   7.2500        S  NaN   \n",
            "1         1       1  female  38.0      1      0  71.2833        C    C   \n",
            "2         1       3  female  26.0      0      0   7.9250        S  NaN   \n",
            "3         1       1  female  35.0      1      0  53.1000        S    C   \n",
            "4         0       3    male  35.0      0      0   8.0500        S  NaN   \n",
            "\n",
            "   embark_town  alone  \n",
            "0  Southampton  False  \n",
            "1    Cherbourg  False  \n",
            "2  Southampton   True  \n",
            "3  Southampton  False  \n",
            "4  Southampton   True  \n"
          ],
          "name": "stdout"
        }
      ]
    },
    {
      "metadata": {
        "id": "wXIOtpGuWsFj",
        "colab_type": "text"
      },
      "cell_type": "markdown",
      "source": [
        "# NaN scrubbing"
      ]
    },
    {
      "metadata": {
        "id": "C8vmJs__WxNN",
        "colab_type": "code",
        "colab": {
          "base_uri": "https://localhost:8080/",
          "height": 291
        },
        "outputId": "9d86b120-2947-4db6-b71a-66df5968490d"
      },
      "cell_type": "code",
      "source": [
        "# Which columns have NaN?\n",
        "print(titanic.isna().any())\n",
        "\n",
        "# How many?\n",
        "nan_columns = titanic.isna().any()\n",
        "nan_columns = nan_columns.index[nan_columns.values]\n",
        "for column in nan_columns:\n",
        "  print(column, titanic[column].isna().sum())"
      ],
      "execution_count": 0,
      "outputs": [
        {
          "output_type": "stream",
          "text": [
            "survived       False\n",
            "pclass         False\n",
            "sex            False\n",
            "age             True\n",
            "sibsp          False\n",
            "parch          False\n",
            "fare           False\n",
            "embarked        True\n",
            "deck            True\n",
            "embark_town     True\n",
            "alone          False\n",
            "dtype: bool\n",
            "age 177\n",
            "embarked 2\n",
            "deck 688\n",
            "embark_town 2\n"
          ],
          "name": "stdout"
        }
      ]
    },
    {
      "metadata": {
        "id": "VBo09CsuYtu9",
        "colab_type": "text"
      },
      "cell_type": "markdown",
      "source": [
        "# NaN choices\n",
        "\n",
        "`embarked` and `embark_town` both have few `NaN`. Lets just fill them forward. We could examine the data to determine if forward or backward had a better justification.\n",
        "\n",
        "`age` has nearly a quarter `NaN`, lets definitely fill them.\n",
        "\n",
        "`deck` has so many `NaN` lets just drop the column. Odds are it is a duplicate column from `pclass`, which has 0 `NaN`!"
      ]
    },
    {
      "metadata": {
        "id": "2TY_PRYoZpQ4",
        "colab_type": "code",
        "colab": {}
      },
      "cell_type": "code",
      "source": [
        "titanic['embarked'] = titanic['embarked'].fillna(method='ffill')\n",
        "titanic['embark_town'] = titanic['embark_town'].fillna(method='ffill')\n",
        "\n",
        "# Is `deck` the same as `pclass`? Just LabelEncoder them...\n",
        "# Left as an exercise...\n",
        "# Lets assume and drop the column\n",
        "titanic = titanic.drop(['deck'], axis=1)"
      ],
      "execution_count": 0,
      "outputs": []
    },
    {
      "metadata": {
        "id": "sf4UxlVGcEMa",
        "colab_type": "text"
      },
      "cell_type": "markdown",
      "source": [
        "# Age analysis\n",
        "\n",
        "It is tempting to ffill or bfill age, but can we figure out from the missing ages who is a child?"
      ]
    },
    {
      "metadata": {
        "id": "aoDchInZcOOm",
        "colab_type": "code",
        "colab": {
          "base_uri": "https://localhost:8080/",
          "height": 1332
        },
        "outputId": "49b3561e-01c8-4afc-af59-3e4abaa8f07e"
      },
      "cell_type": "code",
      "source": [
        "aged = titanic[titanic['age'].notna()]\n",
        "ageless = titanic[titanic['age'].isna()]\n",
        "print(aged.head())\n",
        "\n",
        "# What's the average fare paid by aged or ageless?\n",
        "print('aged', aged['fare'].mean()) # 34.69\n",
        "print('ageless', ageless['fare'].mean()) # 22.15\n",
        "# That's substantial! Lets go deeper.\n",
        "print('aged', aged['fare'].std()) # 52.9\n",
        "print('ageless', ageless['fare'].std()) # 31.8\n",
        "# well....\n",
        "aged['fare'].hist(bins=50)\n",
        "#print(ageless['fare'])\n",
        "plt.show()\n",
        "aged_no_outliers = aged[aged['fare']<(34+52*3)]  # outside of 3 std deviations is outlier...\n",
        "aged_no_outliers['fare'].hist(bins=50)\n",
        "\n",
        "# Alone seems particularly promising...\n",
        "print('aged', aged['alone'].sum()/len(aged['alone']))\n",
        "print('ageless', ageless['alone'].sum()/len(ageless['alone']))\n",
        "# 75% of ageless entries are alone! In general, not children....\n",
        "# Given this, lets just fill them forward.\n",
        "# Exercise: Calculate the distribution (gaussian or ??) of fares over aged, then\n",
        "# apply same fare function to ageless fares to compute missing age\n",
        "\n",
        "titanic['age'] = titanic['age'].fillna(method='ffill')\n",
        "\n",
        "print('Any more NaN?')\n",
        "print(titanic.isna().any())\n"
      ],
      "execution_count": 0,
      "outputs": [
        {
          "output_type": "stream",
          "text": [
            "   survived  pclass     sex   age  sibsp  parch     fare embarked  class  \\\n",
            "0         0       3    male  22.0      1      0   7.2500        S  Third   \n",
            "1         1       1  female  38.0      1      0  71.2833        C  First   \n",
            "2         1       3  female  26.0      0      0   7.9250        S  Third   \n",
            "3         1       1  female  35.0      1      0  53.1000        S  First   \n",
            "4         0       3    male  35.0      0      0   8.0500        S  Third   \n",
            "\n",
            "     who  adult_male deck  embark_town alive  alone  \n",
            "0    man        True  NaN  Southampton    no  False  \n",
            "1  woman       False    C    Cherbourg   yes  False  \n",
            "2  woman       False  NaN  Southampton   yes   True  \n",
            "3  woman       False    C  Southampton   yes  False  \n",
            "4    man        True  NaN  Southampton    no   True  \n",
            "aged 32.204207968574636\n",
            "ageless nan\n",
            "aged 49.6934285971809\n",
            "ageless nan\n"
          ],
          "name": "stdout"
        },
        {
          "output_type": "display_data",
          "data": {
            "image/png": "[encoded data removed]",
            "text/plain": [
              "<matplotlib.figure.Figure at 0x7f5c64686cf8>"
            ]
          },
          "metadata": {
            "tags": []
          }
        },
        {
          "output_type": "stream",
          "text": [
            "aged 0.6026936026936027\n",
            "ageless nan\n",
            "Any more NaN?\n",
            "survived       False\n",
            "pclass         False\n",
            "sex            False\n",
            "age            False\n",
            "sibsp          False\n",
            "parch          False\n",
            "fare           False\n",
            "embarked        True\n",
            "class          False\n",
            "who            False\n",
            "adult_male     False\n",
            "deck            True\n",
            "embark_town     True\n",
            "alive          False\n",
            "alone          False\n",
            "dtype: bool\n"
          ],
          "name": "stdout"
        },
        {
          "output_type": "stream",
          "text": [
            "/usr/local/lib/python3.6/dist-packages/ipykernel_launcher.py:20: RuntimeWarning: invalid value encountered in long_scalars\n"
          ],
          "name": "stderr"
        },
        {
          "output_type": "display_data",
          "data": {
            "image/png": "[encoded data removed]",
            "text/plain": [
              "<matplotlib.figure.Figure at 0x7f5c645abcf8>"
            ]
          },
          "metadata": {
            "tags": []
          }
        }
      ]
    },
    {
      "metadata": {
        "id": "VyYmFjqMeZTM",
        "colab_type": "text"
      },
      "cell_type": "markdown",
      "source": [
        "# Prep OKCupid\n",
        "\n",
        "OKCupid has a bunch of columns from above. We don't need them."
      ]
    },
    {
      "metadata": {
        "id": "Cpm0zScAehCg",
        "colab_type": "code",
        "colab": {}
      },
      "cell_type": "code",
      "source": [
        "# 'essay0', 'essay1', 'essay2', 'essay3', 'essay4', 'essay5', 'essay6', 'essay7', 'essay8', 'essay9', 'last_online' \n",
        "okcupid = okcupid.drop(['essay0', 'essay1', 'essay2', 'essay3', 'essay4', 'essay5', 'essay6', 'essay7', 'essay8', 'essay9', 'last_online'], axis=1)\n"
      ],
      "execution_count": 0,
      "outputs": []
    },
    {
      "metadata": {
        "id": "3oZ0POVQfgj-",
        "colab_type": "code",
        "colab": {
          "base_uri": "https://localhost:8080/",
          "height": 257
        },
        "outputId": "329bd19e-fcc9-47fc-eddf-d6cf15c4c9bc"
      },
      "cell_type": "code",
      "source": [
        "# There's tons of data here, dropping all NaNs ought to speed this up...\n",
        "# How many?\n",
        "nan_columns = okcupid.isna().any()\n",
        "nan_columns = nan_columns.index[nan_columns.values]\n",
        "for column in nan_columns:\n",
        "  print(column, okcupid[column].isna().sum())"
      ],
      "execution_count": 0,
      "outputs": [
        {
          "output_type": "stream",
          "text": [
            "body_type 5296\n",
            "diet 24395\n",
            "drinks 2985\n",
            "drugs 14080\n",
            "education 6628\n",
            "ethnicity 5680\n",
            "height 3\n",
            "job 8198\n",
            "offspring 35561\n",
            "pets 19921\n",
            "religion 20226\n",
            "sign 11056\n",
            "smokes 5512\n",
            "speaks 50\n"
          ],
          "name": "stdout"
        }
      ]
    },
    {
      "metadata": {
        "id": "9Bee6puEgHSK",
        "colab_type": "code",
        "colab": {
          "base_uri": "https://localhost:8080/",
          "height": 85
        },
        "outputId": "647dae6c-ed70-4b4a-b6f7-57c4f504c426"
      },
      "cell_type": "code",
      "source": [
        "# Hmm that's a lot, how many are left if we drop them all?\n",
        "print(okcupid.isna().any().index.values)\n",
        "okc_tmp = okcupid.dropna()\n",
        "print(okc_tmp.shape)"
      ],
      "execution_count": 0,
      "outputs": [
        {
          "output_type": "stream",
          "text": [
            "['age' 'body_type' 'diet' 'drinks' 'drugs' 'education' 'ethnicity'\n",
            " 'height' 'income' 'job' 'location' 'offspring' 'orientation' 'pets'\n",
            " 'religion' 'sex' 'sign' 'smokes' 'speaks' 'status']\n",
            "(7127, 20)\n"
          ],
          "name": "stdout"
        }
      ]
    },
    {
      "metadata": {
        "id": "FdMXu7rtk-k7",
        "colab_type": "text"
      },
      "cell_type": "markdown",
      "source": [
        "# Compare distributions..."
      ]
    },
    {
      "metadata": {
        "id": "PuF9H8lGhR5R",
        "colab_type": "code",
        "colab": {
          "base_uri": "https://localhost:8080/",
          "height": 883
        },
        "outputId": "21bc9355-470e-4cc7-c22a-e91ada35690d"
      },
      "cell_type": "code",
      "source": [
        "titanic_ages = np.sort(titanic['age'].unique())\n",
        "okc_ages = np.sort(okcupid['age'].unique())\n",
        "print(titanic_ages)\n",
        "pd.Series(titanic['age']).hist(bins=len(titanic_ages))\n",
        "#for age in titanic_ages:\n",
        "#  print(age, (titanic['age']==age).sum())\n",
        "print(okc_ages)\n",
        "plt.show();\n",
        "pd.Series(okcupid['age']).hist(bins=len(okc_ages))"
      ],
      "execution_count": 0,
      "outputs": [
        {
          "output_type": "stream",
          "text": [
            "[ 0.42  0.67  0.75  0.83  0.92  1.    2.    3.    4.    5.    6.    7.\n",
            "  8.    9.   10.   11.   12.   13.   14.   14.5  15.   16.   17.   18.\n",
            " 19.   20.   20.5  21.   22.   23.   23.5  24.   24.5  25.   26.   27.\n",
            " 28.   28.5  29.   30.   30.5  31.   32.   32.5  33.   34.   34.5  35.\n",
            " 36.   36.5  37.   38.   39.   40.   40.5  41.   42.   43.   44.   45.\n",
            " 45.5  46.   47.   48.   49.   50.   51.   52.   53.   54.   55.   55.5\n",
            " 56.   57.   58.   59.   60.   61.   62.   63.   64.   65.   66.   70.\n",
            " 70.5  71.   74.   80.  ]\n",
            "[ 18  19  20  21  22  23  24  25  26  27  28  29  30  31  32  33  34  35\n",
            "  36  37  38  39  40  41  42  43  44  45  46  47  48  49  50  51  52  53\n",
            "  54  55  56  57  58  59  60  61  62  63  64  65  66  67  68  69 109 110]\n"
          ],
          "name": "stdout"
        },
        {
          "output_type": "display_data",
          "data": {
            "image/png": "[encoded data removed]",
            "text/plain": [
              "<matplotlib.figure.Figure at 0x7f5c65ccd198>"
            ]
          },
          "metadata": {
            "tags": []
          }
        },
        {
          "output_type": "execute_result",
          "data": {
            "text/plain": [
              "<matplotlib.axes._subplots.AxesSubplot at 0x7f5c66f02978>"
            ]
          },
          "metadata": {
            "tags": []
          },
          "execution_count": 149
        },
        {
          "output_type": "display_data",
          "data": {
            "image/png": "[encoded data removed]",
            "text/plain": [
              "<matplotlib.figure.Figure at 0x7f5c642c6668>"
            ]
          },
          "metadata": {
            "tags": []
          }
        }
      ]
    },
    {
      "metadata": {
        "id": "baCWiX0chKIp",
        "colab_type": "text"
      },
      "cell_type": "markdown",
      "source": [
        "# One last step...\n",
        "\n",
        "We've cleaned the two databases, now to combine. 7127 entries left seems like enough..."
      ]
    },
    {
      "metadata": {
        "id": "2kE8TaWplJeI",
        "colab_type": "code",
        "colab": {}
      },
      "cell_type": "code",
      "source": [
        "# ...."
      ],
      "execution_count": 0,
      "outputs": []
    },
    {
      "metadata": {
        "id": "D8K8brpnuwCn",
        "colab_type": "text"
      },
      "cell_type": "markdown",
      "source": [
        "\n",
        "# Stretch goal\n",
        "\n",
        "Analyze the data in your new titanic dataset using the visualization tutorials found here:\n",
        "\n",
        "\n",
        "[Seaborn plots](https://jakevdp.github.io/PythonDataScienceHandbook/04.14-visualization-with-seaborn.html)"
      ]
    }
  ]
}