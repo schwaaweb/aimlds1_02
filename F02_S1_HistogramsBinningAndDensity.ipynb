{
  "nbformat": 4,
  "nbformat_minor": 0,
  "metadata": {
    "colab": {
      "name": "F02_S1--HistogramsBinningAndDensity.ipynb",
      "version": "0.3.2",
      "provenance": []
    },
    "kernelspec": {
      "name": "python3",
      "display_name": "Python 3"
    }
  },
  "cells": [
    {
      "cell_type": "markdown",
      "metadata": {
        "id": "view-in-github",
        "colab_type": "text"
      },
      "source": [
        "[View in Colaboratory](https://colab.research.google.com/github/schwaaweb/aimlds1_02/blob/master/F02_S1_HistogramsBinningAndDensity.ipynb)"
      ]
    },
    {
      "metadata": {
        "id": "b5Mjv_7ezJiX",
        "colab_type": "text"
      },
      "cell_type": "markdown",
      "source": [
        "# Histograms, Binning & Density\n",
        "\n",
        "https://jakevdp.github.io/PythonDataScienceHandbook/04.05-histograms-and-binnings.html"
      ]
    },
    {
      "metadata": {
        "id": "IId1K65KzGR_",
        "colab_type": "code",
        "colab": {
          "base_uri": "https://localhost:8080/",
          "height": 265
        },
        "outputId": "4751747a-70a7-457b-a341-a4f991d82083"
      },
      "cell_type": "code",
      "source": [
        "%matplotlib inline\n",
        "import numpy as np\n",
        "import matplotlib.pyplot as plt\n",
        "plt.style.use('seaborn-white')\n",
        "\n",
        "data = np.random.randn(1000)\n",
        "\n",
        "plt.hist(data);"
      ],
      "execution_count": 5,
      "outputs": [
        {
          "output_type": "display_data",
          "data": {
            "image/png": "[encoded data removed]",
            "text/plain": [
              "<matplotlib.figure.Figure at 0x7fa9466b5828>"
            ]
          },
          "metadata": {
            "tags": []
          }
        }
      ]
    },
    {
      "metadata": {
        "id": "T8OPoYBZ0yWY",
        "colab_type": "code",
        "colab": {
          "base_uri": "https://localhost:8080/",
          "height": 265
        },
        "outputId": "8d96776c-a94e-4645-c821-b76e9567b698"
      },
      "cell_type": "code",
      "source": [
        "plt.hist(data, bins=30);"
      ],
      "execution_count": 12,
      "outputs": [
        {
          "output_type": "display_data",
          "data": {
            "image/png": "[encoded data removed]",
            "text/plain": [
              "<matplotlib.figure.Figure at 0x7fa94651dd68>"
            ]
          },
          "metadata": {
            "tags": []
          }
        }
      ]
    },
    {
      "metadata": {
        "id": "ZktJSHSX0TR5",
        "colab_type": "code",
        "colab": {
          "base_uri": "https://localhost:8080/",
          "height": 265
        },
        "outputId": "98f480f9-d35c-4a51-912e-67ca54a53dbe"
      },
      "cell_type": "code",
      "source": [
        "plt.hist(data, bins=30, normed=True); # y is 0-1"
      ],
      "execution_count": 13,
      "outputs": [
        {
          "output_type": "display_data",
          "data": {
            "image/png": "[encoded data removed]",
            "text/plain": [
              "<matplotlib.figure.Figure at 0x7fa9465891d0>"
            ]
          },
          "metadata": {
            "tags": []
          }
        }
      ]
    },
    {
      "metadata": {
        "id": "AdO-ACXX1g35",
        "colab_type": "code",
        "colab": {
          "base_uri": "https://localhost:8080/",
          "height": 265
        },
        "outputId": "b2deccec-bdd5-4f5e-98a5-cb440fe9c6e6"
      },
      "cell_type": "code",
      "source": [
        "plt.hist(data, bins=30, normed=True, histtype='stepfilled');"
      ],
      "execution_count": 15,
      "outputs": [
        {
          "output_type": "display_data",
          "data": {
            "image/png": "[encoded data removed]",
            "text/plain": [
              "<matplotlib.figure.Figure at 0x7fa9462b56a0>"
            ]
          },
          "metadata": {
            "tags": []
          }
        }
      ]
    },
    {
      "metadata": {
        "id": "TQYCb8932iRY",
        "colab_type": "code",
        "colab": {}
      },
      "cell_type": "code",
      "source": [
        ""
      ],
      "execution_count": 0,
      "outputs": []
    }
  ]
}