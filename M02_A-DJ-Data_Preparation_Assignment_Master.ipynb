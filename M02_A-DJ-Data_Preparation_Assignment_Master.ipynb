{
  "nbformat": 4,
  "nbformat_minor": 0,
  "metadata": {
    "colab": {
      "name": "Data Preparation Assignment - Master.ipynb",
      "version": "0.3.2",
      "provenance": [],
      "collapsed_sections": []
    },
    "kernelspec": {
      "name": "python3",
      "display_name": "Python 3"
    }
  },
  "cells": [
    {
      "cell_type": "markdown",
      "metadata": {
        "id": "view-in-github",
        "colab_type": "text"
      },
      "source": [
        "[View in Colaboratory](https://colab.research.google.com/github/schwaaweb/aimlds1_02/blob/master/M02_A-DJ-Data_Preparation_Assignment_Master.ipynb)"
      ]
    },
    {
      "metadata": {
        "id": "oDi_fpUsyfmL",
        "colab_type": "text"
      },
      "cell_type": "markdown",
      "source": [
        "# Data Preparation\n",
        "\n",
        "Below are examples of the Titanic dataset, containing passenger records on board the titanic, and the OKCupid dataset, containing records authorized by OKCupid for use in Machine Learning research.\n",
        "\n",
        "Your assignment is to combine the results of the Titanic and OKCupid datasets. You should replace each passenger aboard the titanic and their relevant data with a matching individual from the OKCupid dataset.\n",
        "\n",
        "There should be no duplicates in the remaining dataset, with no NaNs, nulls, or missing information. More specifics at the bottom."
      ]
    },
    {
      "metadata": {
        "id": "pywly5CoyZMG",
        "colab_type": "code",
        "colab": {
          "base_uri": "https://localhost:8080/",
          "height": 242
        },
        "outputId": "dbab9968-6659-4e92-a94d-ed2f5cb23a5a"
      },
      "cell_type": "code",
      "source": [
        "import numpy as np\n",
        "import pandas as pd\n",
        "import seaborn as sns\n",
        "titanic = sns.load_dataset('titanic')\n",
        "\n",
        "# The first few records\n",
        "print(titanic.head())"
      ],
      "execution_count": 0,
      "outputs": [
        {
          "output_type": "stream",
          "text": [
            "   survived  pclass     sex   age  sibsp  parch     fare embarked  class  \\\n",
            "0         0       3    male  22.0      1      0   7.2500        S  Third   \n",
            "1         1       1  female  38.0      1      0  71.2833        C  First   \n",
            "2         1       3  female  26.0      0      0   7.9250        S  Third   \n",
            "3         1       1  female  35.0      1      0  53.1000        S  First   \n",
            "4         0       3    male  35.0      0      0   8.0500        S  Third   \n",
            "\n",
            "     who  adult_male deck  embark_town alive  alone  \n",
            "0    man        True  NaN  Southampton    no  False  \n",
            "1  woman       False    C    Cherbourg   yes  False  \n",
            "2  woman       False  NaN  Southampton   yes   True  \n",
            "3  woman       False    C  Southampton   yes  False  \n",
            "4    man        True  NaN  Southampton    no   True  \n"
          ],
          "name": "stdout"
        }
      ]
    },
    {
      "metadata": {
        "id": "EJREtHLd4VDC",
        "colab_type": "code",
        "colab": {
          "base_uri": "https://localhost:8080/",
          "height": 34
        },
        "outputId": "55ef94a5-1274-4caf-9f61-c04a42dc5c1a"
      },
      "cell_type": "code",
      "source": [
        "# 891 passengers with 15 data entries per\n",
        "print(titanic.shape)"
      ],
      "execution_count": 0,
      "outputs": [
        {
          "output_type": "stream",
          "text": [
            "(891, 15)\n"
          ],
          "name": "stdout"
        }
      ]
    },
    {
      "metadata": {
        "id": "xORLT36EifIx",
        "colab_type": "code",
        "colab": {
          "base_uri": "https://localhost:8080/",
          "height": 520
        },
        "outputId": "e1483cd4-7de5-4553-829d-6f2064c798ef"
      },
      "cell_type": "code",
      "source": [
        "# describe produces interesting statistics about a pandas DataFrame or Series\n",
        "print(titanic.describe(include=[np.number]))\n",
        "\n",
        "import matplotlib.pyplot as plt\n",
        "plt.plot(titanic['fare'],titanic['age'],'or')\n",
        "plt.axvline(titanic['fare'].mean(),color=\"grey\")"
      ],
      "execution_count": 0,
      "outputs": [
        {
          "output_type": "stream",
          "text": [
            "         survived      pclass         age       sibsp       parch        fare\n",
            "count  891.000000  891.000000  714.000000  891.000000  891.000000  891.000000\n",
            "mean     0.383838    2.308642   29.699118    0.523008    0.381594   32.204208\n",
            "std      0.486592    0.836071   14.526497    1.102743    0.806057   49.693429\n",
            "min      0.000000    1.000000    0.420000    0.000000    0.000000    0.000000\n",
            "25%      0.000000    2.000000   20.125000    0.000000    0.000000    7.910400\n",
            "50%      0.000000    3.000000   28.000000    0.000000    0.000000   14.454200\n",
            "75%      1.000000    3.000000   38.000000    1.000000    0.000000   31.000000\n",
            "max      1.000000    3.000000   80.000000    8.000000    6.000000  512.329200\n"
          ],
          "name": "stdout"
        },
        {
          "output_type": "execute_result",
          "data": {
            "text/plain": [
              "<matplotlib.lines.Line2D at 0x7f8bb7a13ba8>"
            ]
          },
          "metadata": {
            "tags": []
          },
          "execution_count": 52
        },
        {
          "output_type": "display_data",
          "data": {
            "image/png": "[encoded data removed]",
            "text/plain": [
              "<matplotlib.figure.Figure at 0x7f8bb7a13d30>"
            ]
          },
          "metadata": {
            "tags": []
          }
        }
      ]
    },
    {
      "metadata": {
        "id": "1c6gV5LejKcb",
        "colab_type": "text"
      },
      "cell_type": "markdown",
      "source": [
        "### OKCupid\n",
        "\n",
        "The OKCupid dataset is 150MB and needs to be downloaded to your Colab session before you can load it. It loads using the same command as the titanic."
      ]
    },
    {
      "metadata": {
        "id": "8e9v96QD9QsC",
        "colab_type": "code",
        "colab": {
          "base_uri": "https://localhost:8080/",
          "height": 313
        },
        "outputId": "14d3dc3d-282f-41a3-e332-f346e16bc39a"
      },
      "cell_type": "code",
      "source": [
        "!wget https://www.dropbox.com/s/kurta6eazegc3su/JSE_OkCupid_profiles.csv?raw=1 -O /tmp/JSE_OkCupid_profiles.csv"
      ],
      "execution_count": 0,
      "outputs": [
        {
          "output_type": "stream",
          "text": [
            "--2018-04-09 01:14:42--  https://www.dropbox.com/s/kurta6eazegc3su/JSE_OkCupid_profiles.csv?raw=1\r\n",
            "Resolving www.dropbox.com (www.dropbox.com)... 162.125.7.1, 2620:100:6016:1::a27d:101\n",
            "Connecting to www.dropbox.com (www.dropbox.com)|162.125.7.1|:443... connected.\n",
            "HTTP request sent, awaiting response... 302 Found\n",
            "Location: https://dl.dropboxusercontent.com/content_link/HgdlFakFGx3gsvGhbySNfncCzJor19sn8SgzMRHGS105jXY9lYgHwW08HDauNe1l/file [following]\n",
            "--2018-04-09 01:14:43--  https://dl.dropboxusercontent.com/content_link/HgdlFakFGx3gsvGhbySNfncCzJor19sn8SgzMRHGS105jXY9lYgHwW08HDauNe1l/file\n",
            "Resolving dl.dropboxusercontent.com (dl.dropboxusercontent.com)... 162.125.1.6, 2620:100:6016:6::a27d:106\n",
            "Connecting to dl.dropboxusercontent.com (dl.dropboxusercontent.com)|162.125.1.6|:443... connected.\n",
            "HTTP request sent, awaiting response... 200 OK\n",
            "Length: 151614805 (145M) [text/csv]\n",
            "Saving to: ‘/tmp/JSE_OkCupid_profiles.csv’\n",
            "\n",
            "/tmp/JSE_OkCupid_pr 100%[===================>] 144.59M  43.3MB/s    in 5.2s    \n",
            "\n",
            "2018-04-09 01:14:49 (27.7 MB/s) - ‘/tmp/JSE_OkCupid_profiles.csv’ saved [151614805/151614805]\n",
            "\n"
          ],
          "name": "stdout"
        }
      ]
    },
    {
      "metadata": {
        "id": "9jKkl2Cy8ySu",
        "colab_type": "code",
        "colab": {
          "base_uri": "https://localhost:8080/",
          "height": 172
        },
        "outputId": "fa7254c9-301e-4418-d4d2-4e08aad6e5a1"
      },
      "cell_type": "code",
      "source": [
        "okcupid = pd.read_csv('/tmp/JSE_OkCupid_profiles.csv')\n",
        "\n",
        "# almost 60000 individuals with 31 columns each\n",
        "print(okcupid.shape)\n",
        "\n",
        "# There are many more columns in OKCupid than titanic\n",
        "print(okcupid.columns)\n",
        "\n",
        "# The set of body_types \n",
        "print(okcupid.body_type.unique())"
      ],
      "execution_count": 0,
      "outputs": [
        {
          "output_type": "stream",
          "text": [
            "(59946, 31)\n",
            "Index(['age', 'body_type', 'diet', 'drinks', 'drugs', 'education', 'essay0',\n",
            "       'essay1', 'essay2', 'essay3', 'essay4', 'essay5', 'essay6', 'essay7',\n",
            "       'essay8', 'essay9', 'ethnicity', 'height', 'income', 'job',\n",
            "       'last_online', 'location', 'offspring', 'orientation', 'pets',\n",
            "       'religion', 'sex', 'sign', 'smokes', 'speaks', 'status'],\n",
            "      dtype='object')\n",
            "['a little extra' 'average' 'thin' 'athletic' 'fit' nan 'skinny' 'curvy'\n",
            " 'full figured' 'jacked' 'rather not say' 'used up' 'overweight']\n"
          ],
          "name": "stdout"
        }
      ]
    },
    {
      "metadata": {
        "id": "C_uI8e20_TVo",
        "colab_type": "code",
        "colab": {
          "base_uri": "https://localhost:8080/",
          "height": 552
        },
        "outputId": "2f0ee25c-c6ab-4938-f3a9-75da291404f3"
      },
      "cell_type": "code",
      "source": [
        "# The number of unique entries for each column\n",
        "for column in okcupid.columns:\n",
        "  print(column, okcupid[column].unique().size)"
      ],
      "execution_count": 0,
      "outputs": [
        {
          "output_type": "stream",
          "text": [
            "age 54\n",
            "body_type 13\n",
            "diet 19\n",
            "drinks 7\n",
            "drugs 4\n",
            "education 33\n",
            "essay0 54351\n",
            "essay1 51517\n",
            "essay2 48636\n",
            "essay3 43534\n",
            "essay4 49261\n",
            "essay5 48964\n",
            "essay6 43604\n",
            "essay7 45555\n",
            "essay8 39325\n",
            "essay9 45444\n",
            "ethnicity 218\n",
            "height 61\n",
            "income 13\n",
            "job 22\n",
            "last_online 30123\n",
            "location 199\n",
            "offspring 16\n",
            "orientation 3\n",
            "pets 16\n",
            "religion 46\n",
            "sex 2\n",
            "sign 49\n",
            "smokes 6\n",
            "speaks 7648\n",
            "status 5\n"
          ],
          "name": "stdout"
        }
      ]
    },
    {
      "metadata": {
        "id": "Tk9Wgi3GDdHz",
        "colab_type": "code",
        "colab": {
          "base_uri": "https://localhost:8080/",
          "height": 622
        },
        "outputId": "e66a5934-0567-4d44-f9b8-92a7b1544433"
      },
      "cell_type": "code",
      "source": [
        "print(okcupid[1:10].isnull())"
      ],
      "execution_count": 0,
      "outputs": [
        {
          "output_type": "stream",
          "text": [
            "     age  body_type   diet  drinks  drugs  education  essay0  essay1  essay2  \\\n",
            "1  False      False  False   False  False      False   False   False   False   \n",
            "2  False      False  False   False   True      False   False   False   False   \n",
            "3  False      False  False   False   True      False   False   False   False   \n",
            "4  False      False   True   False  False      False   False   False   False   \n",
            "5  False      False  False   False   True      False   False   False   False   \n",
            "6  False      False  False   False  False      False   False   False   False   \n",
            "7  False      False  False   False  False      False    True   False   False   \n",
            "8  False       True  False   False   True      False    True   False    True   \n",
            "9  False      False  False   False  False      False   False   False   False   \n",
            "\n",
            "   essay3   ...    location  offspring  orientation   pets  religion    sex  \\\n",
            "1    True   ...       False      False        False  False     False  False   \n",
            "2   False   ...       False       True        False  False      True  False   \n",
            "3   False   ...       False      False        False  False      True  False   \n",
            "4   False   ...       False       True        False  False      True  False   \n",
            "5   False   ...       False      False        False  False     False  False   \n",
            "6   False   ...       False       True        False  False      True  False   \n",
            "7   False   ...       False      False        False  False     False  False   \n",
            "8   False   ...       False      False        False  False     False  False   \n",
            "9   False   ...       False       True        False  False     False  False   \n",
            "\n",
            "    sign  smokes  speaks  status  \n",
            "1  False   False   False   False  \n",
            "2  False   False   False   False  \n",
            "3  False   False   False   False  \n",
            "4  False   False   False   False  \n",
            "5  False   False   False   False  \n",
            "6  False    True   False   False  \n",
            "7  False   False   False   False  \n",
            "8  False   False   False   False  \n",
            "9  False   False   False   False  \n",
            "\n",
            "[9 rows x 31 columns]\n",
            "nan\n"
          ],
          "name": "stdout"
        }
      ]
    },
    {
      "metadata": {
        "id": "59Qnyj9bkUhE",
        "colab_type": "text"
      },
      "cell_type": "markdown",
      "source": [
        "### Duplicates\n",
        "\n",
        "There are no duplicates in OKCupid and 107 titanic duplicates."
      ]
    },
    {
      "metadata": {
        "id": "5Cr0C2rWEsbQ",
        "colab_type": "code",
        "colab": {
          "base_uri": "https://localhost:8080/",
          "height": 52
        },
        "outputId": "efbfb1f9-b146-4ca1-80a1-7cba6e46e8e8"
      },
      "cell_type": "code",
      "source": [
        "print(okcupid.duplicated().sum())\n",
        "print(titanic.duplicated().sum())"
      ],
      "execution_count": 0,
      "outputs": [
        {
          "output_type": "stream",
          "text": [
            "0\n",
            "107\n"
          ],
          "name": "stdout"
        }
      ]
    },
    {
      "metadata": {
        "id": "87kUO0AppxKK",
        "colab_type": "text"
      },
      "cell_type": "markdown",
      "source": [
        "## Instructions\n",
        "\n",
        "Titanic contains 891 records with 107 duplicates. The final table should contain 784 records. The titanic dataset is also full of  redudant columns: `survived : alive`, `sex : who : adult_male`, which can be identified if they are truly redundant and can be removed if so.\n",
        "\n",
        "The OKCupid dataset has ~60k records. There are 31 columns that match many of the features (importantly age/sex) in the titanic set.\n",
        "\n",
        "Update each row of the titanic dataset to contain OKCupid data that matches in demographic information. Select a few columns from the OKCUpid dataset to transfer to the titanic dataset as well to increase the personality of each entry. Do not move the extremely long written records in the OKCupid dataset as part of this process. Those records will be useful later for NLP and text mining.\n",
        "\n",
        "_Document and justify your decisions!_"
      ]
    },
    {
      "metadata": {
        "id": "FMnMRs4NrpEB",
        "colab_type": "text"
      },
      "cell_type": "markdown",
      "source": [
        "### Benchmark\n",
        "\n",
        "The titanic dataset is very popular for beginning Data Science training.\n",
        "\n",
        "Your final dataset should perfectly match these two obvious and famous benchmarks of the titanic data, with other new, interesting analysis available from your combinations:"
      ]
    },
    {
      "metadata": {
        "id": "jL2b-emDr1Hj",
        "colab_type": "code",
        "colab": {
          "base_uri": "https://localhost:8080/",
          "height": 138
        },
        "outputId": "c69bc1d8-e4c9-45b5-ff24-ddc787dfc831"
      },
      "cell_type": "code",
      "source": [
        "titanic.groupby('sex')[['survived']].mean()"
      ],
      "execution_count": 0,
      "outputs": [
        {
          "output_type": "execute_result",
          "data": {
            "text/html": [
              "<div>\n",
              "<style scoped>\n",
              "    .dataframe tbody tr th:only-of-type {\n",
              "        vertical-align: middle;\n",
              "    }\n",
              "\n",
              "    .dataframe tbody tr th {\n",
              "        vertical-align: top;\n",
              "    }\n",
              "\n",
              "    .dataframe thead th {\n",
              "        text-align: right;\n",
              "    }\n",
              "</style>\n",
              "<table border=\"1\" class=\"dataframe\">\n",
              "  <thead>\n",
              "    <tr style=\"text-align: right;\">\n",
              "      <th></th>\n",
              "      <th>survived</th>\n",
              "    </tr>\n",
              "    <tr>\n",
              "      <th>sex</th>\n",
              "      <th></th>\n",
              "    </tr>\n",
              "  </thead>\n",
              "  <tbody>\n",
              "    <tr>\n",
              "      <th>female</th>\n",
              "      <td>0.742038</td>\n",
              "    </tr>\n",
              "    <tr>\n",
              "      <th>male</th>\n",
              "      <td>0.188908</td>\n",
              "    </tr>\n",
              "  </tbody>\n",
              "</table>\n",
              "</div>"
            ],
            "text/plain": [
              "        survived\n",
              "sex             \n",
              "female  0.742038\n",
              "male    0.188908"
            ]
          },
          "metadata": {
            "tags": []
          },
          "execution_count": 53
        }
      ]
    },
    {
      "metadata": {
        "id": "0EYtEZ6Gr3CC",
        "colab_type": "code",
        "colab": {
          "base_uri": "https://localhost:8080/",
          "height": 138
        },
        "outputId": "80b2cec3-3fe2-4a79-9ba3-3787bb92d56e"
      },
      "cell_type": "code",
      "source": [
        "titanic.groupby(['sex', 'class'])['survived'].aggregate('mean').unstack()"
      ],
      "execution_count": 0,
      "outputs": [
        {
          "output_type": "execute_result",
          "data": {
            "text/html": [
              "<div>\n",
              "<style scoped>\n",
              "    .dataframe tbody tr th:only-of-type {\n",
              "        vertical-align: middle;\n",
              "    }\n",
              "\n",
              "    .dataframe tbody tr th {\n",
              "        vertical-align: top;\n",
              "    }\n",
              "\n",
              "    .dataframe thead th {\n",
              "        text-align: right;\n",
              "    }\n",
              "</style>\n",
              "<table border=\"1\" class=\"dataframe\">\n",
              "  <thead>\n",
              "    <tr style=\"text-align: right;\">\n",
              "      <th>class</th>\n",
              "      <th>First</th>\n",
              "      <th>Second</th>\n",
              "      <th>Third</th>\n",
              "    </tr>\n",
              "    <tr>\n",
              "      <th>sex</th>\n",
              "      <th></th>\n",
              "      <th></th>\n",
              "      <th></th>\n",
              "    </tr>\n",
              "  </thead>\n",
              "  <tbody>\n",
              "    <tr>\n",
              "      <th>female</th>\n",
              "      <td>0.968085</td>\n",
              "      <td>0.921053</td>\n",
              "      <td>0.500000</td>\n",
              "    </tr>\n",
              "    <tr>\n",
              "      <th>male</th>\n",
              "      <td>0.368852</td>\n",
              "      <td>0.157407</td>\n",
              "      <td>0.135447</td>\n",
              "    </tr>\n",
              "  </tbody>\n",
              "</table>\n",
              "</div>"
            ],
            "text/plain": [
              "class      First    Second     Third\n",
              "sex                                 \n",
              "female  0.968085  0.921053  0.500000\n",
              "male    0.368852  0.157407  0.135447"
            ]
          },
          "metadata": {
            "tags": []
          },
          "execution_count": 54
        }
      ]
    },
    {
      "metadata": {
        "id": "hIImiG28QAb-",
        "colab_type": "text"
      },
      "cell_type": "markdown",
      "source": [
        "### Suggested search terms\n",
        "\n",
        "python pandas replace columns\n",
        "\n",
        "python pandas concatenate columns\n",
        "\n",
        "python pandas concatenate rows\n",
        "\n",
        "python pandas remove duplicates\n",
        "\n",
        "python pandas merge and join records"
      ]
    },
    {
      "metadata": {
        "id": "D8K8brpnuwCn",
        "colab_type": "text"
      },
      "cell_type": "markdown",
      "source": [
        "\n",
        "# Stretch goal\n",
        "\n",
        "Analyze the data in your new titanic dataset using the visualization tutorials found here:\n",
        "\n",
        "\n",
        "[Seaborn plots](https://jakevdp.github.io/PythonDataScienceHandbook/04.14-visualization-with-seaborn.html)"
      ]
    }
  ]
}