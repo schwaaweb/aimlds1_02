{
  "nbformat": 4,
  "nbformat_minor": 0,
  "metadata": {
    "colab": {
      "name": "Data Preparation Lecture",
      "version": "0.3.2",
      "provenance": [],
      "collapsed_sections": []
    },
    "kernelspec": {
      "name": "python3",
      "display_name": "Python 3"
    }
  },
  "cells": [
    {
      "cell_type": "markdown",
      "metadata": {
        "id": "view-in-github",
        "colab_type": "text"
      },
      "source": [
        "[View in Colaboratory](https://colab.research.google.com/github/schwaaweb/aimlds1_02/blob/master/M02_A-Data_Preparation_Lecture.ipynb)"
      ]
    },
    {
      "metadata": {
        "id": "cdGD6udr970V",
        "colab_type": "text"
      },
      "cell_type": "markdown",
      "source": [
        ""
      ]
    },
    {
      "metadata": {
        "id": "ndiKCl-fpGIw",
        "colab_type": "code",
        "colab": {
          "base_uri": "https://localhost:8080/",
          "height": 85
        },
        "outputId": "86e3bb46-c2da-4d7a-fadb-ed7f24bff872"
      },
      "cell_type": "code",
      "source": [
        "import numpy as np\n",
        "import pandas as pd\n",
        "\n",
        "# reading a .csv\n",
        "df = pd.read_csv('https://www.dropbox.com/s/uly87t2jwhbshtu/example1.csv?raw=1')\n",
        "\n",
        "print(df)"
      ],
      "execution_count": 78,
      "outputs": [
        {
          "output_type": "stream",
          "text": [
            "   a   b   c   d message\n",
            "0  1   2   3   4   hello\n",
            "1  5   6   7   8   world\n",
            "2  9  10  11  12     foo\n"
          ],
          "name": "stdout"
        }
      ]
    },
    {
      "metadata": {
        "id": "_grTCKjPUSJG",
        "colab_type": "text"
      },
      "cell_type": "markdown",
      "source": [
        "## First step of cleaning: Skip rows with known bad data\n",
        "Or, use `comment=\"#\"` to ignore commented lines"
      ]
    },
    {
      "metadata": {
        "id": "gA9LNl7cTUoP",
        "colab_type": "code",
        "colab": {
          "base_uri": "https://localhost:8080/",
          "height": 154
        },
        "outputId": "dcb9d623-fdd8-43a9-8b41-e9c23f10dd7f"
      },
      "cell_type": "code",
      "source": [
        "e4 = pd.read_csv('https://www.dropbox.com/s/xcqdya9svj04kwc/example4.csv?raw=1', skiprows=[0, 2, 3])\n",
        "print(e4)\n",
        "e4_1 = pd.read_csv('https://www.dropbox.com/s/xcqdya9svj04kwc/example4.csv?raw=1', comment=\"#\")\n",
        "print(e4_1)"
      ],
      "execution_count": 79,
      "outputs": [
        {
          "output_type": "stream",
          "text": [
            "   a   b   c   d message\n",
            "0  1   2   3   4   hello\n",
            "1  5   6   7   8   world\n",
            "2  9  10  11  12     foo\n",
            "   a   b   c   d message\n",
            "0  1   2   3   4   hello\n",
            "1  5   6   7   8   world\n",
            "2  9  10  11  12     foo\n"
          ],
          "name": "stdout"
        }
      ]
    },
    {
      "metadata": {
        "id": "lAiuuSaAUwtL",
        "colab_type": "text"
      },
      "cell_type": "markdown",
      "source": [
        "## Reading large files\n",
        "\n",
        "We don't want all the data, say, from a 10TB data file, lets just get the first 15"
      ]
    },
    {
      "metadata": {
        "id": "gjN2AtX2TdmL",
        "colab_type": "code",
        "colab": {
          "base_uri": "https://localhost:8080/",
          "height": 360
        },
        "outputId": "219aa7b5-6bda-422a-b038-6fbea535c9a3"
      },
      "cell_type": "code",
      "source": [
        "pd.options.display.max_rows = 6\n",
        "e6 = pd.read_csv('https://www.dropbox.com/s/ymn5eqkckz4h204/example6.csv?raw=1')\n",
        "print(e6)\n",
        "\n",
        "# Creating data cleaning algorithms for a small subset will not be perfect\n",
        "e6_short = pd.read_csv('https://www.dropbox.com/s/ymn5eqkckz4h204/example6.csv?raw=1',nrows=10)\n",
        "print(e6_short)"
      ],
      "execution_count": 80,
      "outputs": [
        {
          "output_type": "stream",
          "text": [
            "           one       two     three      four key\n",
            "0     0.467976 -0.038649 -0.295344 -1.824726   L\n",
            "1    -0.358893  1.404453  0.704965 -0.200638   B\n",
            "2    -0.501840  0.659254 -0.421691 -0.057688   G\n",
            "...        ...       ...       ...       ...  ..\n",
            "9997  0.523331  0.787112  0.486066  1.093156   K\n",
            "9998 -0.362559  0.598894 -1.843201  0.887292   G\n",
            "9999 -0.096376 -1.012999 -0.657431 -0.573315   0\n",
            "\n",
            "[10000 rows x 5 columns]\n",
            "         one       two     three      four key\n",
            "0   0.467976 -0.038649 -0.295344 -1.824726   L\n",
            "1  -0.358893  1.404453  0.704965 -0.200638   B\n",
            "2  -0.501840  0.659254 -0.421691 -0.057688   G\n",
            "..       ...       ...       ...       ...  ..\n",
            "7  -0.913135  1.530624 -0.572657  0.477252   K\n",
            "8   0.358480 -0.497572 -0.367016  0.507702   S\n",
            "9  -1.740877 -1.160417 -1.637830  2.172201   G\n",
            "\n",
            "[10 rows x 5 columns]\n"
          ],
          "name": "stdout"
        }
      ]
    },
    {
      "metadata": {
        "id": "H_i9P2xyVyob",
        "colab_type": "text"
      },
      "cell_type": "markdown",
      "source": [
        "## Reading chunks"
      ]
    },
    {
      "metadata": {
        "id": "DLBg7a9_VKKW",
        "colab_type": "code",
        "colab": {
          "base_uri": "https://localhost:8080/",
          "height": 2451
        },
        "outputId": "cbf8892f-c4df-40cb-cf8b-1f33cb152ae5"
      },
      "cell_type": "code",
      "source": [
        "read_chunk = pd.read_csv('https://www.dropbox.com/s/ymn5eqkckz4h204/example6.csv?raw=1', chunksize=1000)\n",
        "total_dataset = pd.Series([])\n",
        "for section in read_chunk:\n",
        "  pd.options.display.max_rows = 10\n",
        "  print(section)\n",
        "  total_dataset = total_dataset.add(section['key'].value_counts(), fill_value=0)\n",
        "print(total_dataset.shape)\n",
        "print(total_dataset.sum())"
      ],
      "execution_count": 85,
      "outputs": [
        {
          "output_type": "stream",
          "text": [
            "          one       two     three      four key\n",
            "0    0.467976 -0.038649 -0.295344 -1.824726   L\n",
            "1   -0.358893  1.404453  0.704965 -0.200638   B\n",
            "2   -0.501840  0.659254 -0.421691 -0.057688   G\n",
            "3    0.204886  1.074134  1.388361 -0.982404   R\n",
            "4    0.354628 -0.133116  0.283763 -0.837063   Q\n",
            "..        ...       ...       ...       ...  ..\n",
            "995  2.311896 -0.417070 -1.409599 -0.515821   M\n",
            "996 -0.479893 -0.650419  0.745152 -0.646038   H\n",
            "997  0.523331  0.787112  0.486066  1.093156   D\n",
            "998 -0.362559  0.598894 -1.843201  0.887292   W\n",
            "999 -0.096376 -1.012999 -0.657431 -0.573315   K\n",
            "\n",
            "[1000 rows x 5 columns]\n",
            "           one       two     three      four key\n",
            "1000  0.467976 -0.038649 -0.295344 -1.824726   T\n",
            "1001 -0.358893  1.404453  0.704965 -0.200638   J\n",
            "1002 -0.501840  0.659254 -0.421691 -0.057688   R\n",
            "1003  0.204886  1.074134  1.388361 -0.982404   S\n",
            "1004  0.354628 -0.133116  0.283763 -0.837063   B\n",
            "...        ...       ...       ...       ...  ..\n",
            "1995  2.311896 -0.417070 -1.409599 -0.515821   L\n",
            "1996 -0.479893 -0.650419  0.745152 -0.646038   J\n",
            "1997  0.523331  0.787112  0.486066  1.093156   V\n",
            "1998 -0.362559  0.598894 -1.843201  0.887292   W\n",
            "1999 -0.096376 -1.012999 -0.657431 -0.573315   D\n",
            "\n",
            "[1000 rows x 5 columns]\n",
            "           one       two     three      four key\n",
            "2000  0.467976 -0.038649 -0.295344 -1.824726   1\n",
            "2001 -0.358893  1.404453  0.704965 -0.200638   H\n",
            "2002 -0.501840  0.659254 -0.421691 -0.057688   F\n",
            "2003  0.204886  1.074134  1.388361 -0.982404   L\n",
            "2004  0.354628 -0.133116  0.283763 -0.837063   E\n",
            "...        ...       ...       ...       ...  ..\n",
            "2995  2.311896 -0.417070 -1.409599 -0.515821   H\n",
            "2996 -0.479893 -0.650419  0.745152 -0.646038   U\n",
            "2997  0.523331  0.787112  0.486066  1.093156   A\n",
            "2998 -0.362559  0.598894 -1.843201  0.887292   Y\n",
            "2999 -0.096376 -1.012999 -0.657431 -0.573315   F\n",
            "\n",
            "[1000 rows x 5 columns]\n",
            "           one       two     three      four key\n",
            "3000  0.467976 -0.038649 -0.295344 -1.824726   H\n",
            "3001 -0.358893  1.404453  0.704965 -0.200638   Y\n",
            "3002 -0.501840  0.659254 -0.421691 -0.057688   0\n",
            "3003  0.204886  1.074134  1.388361 -0.982404   Z\n",
            "3004  0.354628 -0.133116  0.283763 -0.837063   U\n",
            "...        ...       ...       ...       ...  ..\n",
            "3995  2.311896 -0.417070 -1.409599 -0.515821   W\n",
            "3996 -0.479893 -0.650419  0.745152 -0.646038   E\n",
            "3997  0.523331  0.787112  0.486066  1.093156   Q\n",
            "3998 -0.362559  0.598894 -1.843201  0.887292   A\n",
            "3999 -0.096376 -1.012999 -0.657431 -0.573315   M\n",
            "\n",
            "[1000 rows x 5 columns]\n",
            "           one       two     three      four key\n",
            "4000  0.467976 -0.038649 -0.295344 -1.824726   H\n",
            "4001 -0.358893  1.404453  0.704965 -0.200638   Z\n",
            "4002 -0.501840  0.659254 -0.421691 -0.057688   2\n",
            "4003  0.204886  1.074134  1.388361 -0.982404   B\n",
            "4004  0.354628 -0.133116  0.283763 -0.837063   1\n",
            "...        ...       ...       ...       ...  ..\n",
            "4995  2.311896 -0.417070 -1.409599 -0.515821   X\n",
            "4996 -0.479893 -0.650419  0.745152 -0.646038   M\n",
            "4997  0.523331  0.787112  0.486066  1.093156   5\n",
            "4998 -0.362559  0.598894 -1.843201  0.887292   T\n",
            "4999 -0.096376 -1.012999 -0.657431 -0.573315   U\n",
            "\n",
            "[1000 rows x 5 columns]\n",
            "           one       two     three      four key\n",
            "5000  0.467976 -0.038649 -0.295344 -1.824726   1\n",
            "5001 -0.358893  1.404453  0.704965 -0.200638   Z\n",
            "5002 -0.501840  0.659254 -0.421691 -0.057688   3\n",
            "5003  0.204886  1.074134  1.388361 -0.982404   H\n",
            "5004  0.354628 -0.133116  0.283763 -0.837063   B\n",
            "...        ...       ...       ...       ...  ..\n",
            "5995  2.311896 -0.417070 -1.409599 -0.515821   1\n",
            "5996 -0.479893 -0.650419  0.745152 -0.646038   Y\n",
            "5997  0.523331  0.787112  0.486066  1.093156   F\n",
            "5998 -0.362559  0.598894 -1.843201  0.887292   0\n",
            "5999 -0.096376 -1.012999 -0.657431 -0.573315   3\n",
            "\n",
            "[1000 rows x 5 columns]\n",
            "           one       two     three      four key\n",
            "6000  0.467976 -0.038649 -0.295344 -1.824726   I\n",
            "6001 -0.358893  1.404453  0.704965 -0.200638   X\n",
            "6002 -0.501840  0.659254 -0.421691 -0.057688   A\n",
            "6003  0.204886  1.074134  1.388361 -0.982404   C\n",
            "6004  0.354628 -0.133116  0.283763 -0.837063   S\n",
            "...        ...       ...       ...       ...  ..\n",
            "6995  2.311896 -0.417070 -1.409599 -0.515821   P\n",
            "6996 -0.479893 -0.650419  0.745152 -0.646038   9\n",
            "6997  0.523331  0.787112  0.486066  1.093156   L\n",
            "6998 -0.362559  0.598894 -1.843201  0.887292   5\n",
            "6999 -0.096376 -1.012999 -0.657431 -0.573315   O\n",
            "\n",
            "[1000 rows x 5 columns]\n",
            "           one       two     three      four key\n",
            "7000  0.467976 -0.038649 -0.295344 -1.824726   1\n",
            "7001 -0.358893  1.404453  0.704965 -0.200638   I\n",
            "7002 -0.501840  0.659254 -0.421691 -0.057688   H\n",
            "7003  0.204886  1.074134  1.388361 -0.982404   P\n",
            "7004  0.354628 -0.133116  0.283763 -0.837063   D\n",
            "...        ...       ...       ...       ...  ..\n",
            "7995  2.311896 -0.417070 -1.409599 -0.515821   A\n",
            "7996 -0.479893 -0.650419  0.745152 -0.646038   6\n",
            "7997  0.523331  0.787112  0.486066  1.093156   R\n",
            "7998 -0.362559  0.598894 -1.843201  0.887292   R\n",
            "7999 -0.096376 -1.012999 -0.657431 -0.573315   2\n",
            "\n",
            "[1000 rows x 5 columns]\n",
            "           one       two     three      four key\n",
            "8000  0.467976 -0.038649 -0.295344 -1.824726   7\n",
            "8001 -0.358893  1.404453  0.704965 -0.200638   W\n",
            "8002 -0.501840  0.659254 -0.421691 -0.057688   C\n",
            "8003  0.204886  1.074134  1.388361 -0.982404   S\n",
            "8004  0.354628 -0.133116  0.283763 -0.837063   H\n",
            "...        ...       ...       ...       ...  ..\n",
            "8995  2.311896 -0.417070 -1.409599 -0.515821   W\n",
            "8996 -0.479893 -0.650419  0.745152 -0.646038   N\n",
            "8997  0.523331  0.787112  0.486066  1.093156   Q\n",
            "8998 -0.362559  0.598894 -1.843201  0.887292   R\n",
            "8999 -0.096376 -1.012999 -0.657431 -0.573315   M\n",
            "\n",
            "[1000 rows x 5 columns]\n",
            "           one       two     three      four key\n",
            "9000  0.467976 -0.038649 -0.295344 -1.824726   B\n",
            "9001 -0.358893  1.404453  0.704965 -0.200638   M\n",
            "9002 -0.501840  0.659254 -0.421691 -0.057688   N\n",
            "9003  0.204886  1.074134  1.388361 -0.982404   N\n",
            "9004  0.354628 -0.133116  0.283763 -0.837063   Y\n",
            "...        ...       ...       ...       ...  ..\n",
            "9995  2.311896 -0.417070 -1.409599 -0.515821   L\n",
            "9996 -0.479893 -0.650419  0.745152 -0.646038   E\n",
            "9997  0.523331  0.787112  0.486066  1.093156   K\n",
            "9998 -0.362559  0.598894 -1.843201  0.887292   G\n",
            "9999 -0.096376 -1.012999 -0.657431 -0.573315   0\n",
            "\n",
            "[1000 rows x 5 columns]\n",
            "(36,)\n",
            "10000.0\n"
          ],
          "name": "stdout"
        }
      ]
    },
    {
      "metadata": {
        "id": "GsZBf_eWWcIQ",
        "colab_type": "text"
      },
      "cell_type": "markdown",
      "source": [
        "## You got the data, what to do with it?"
      ]
    },
    {
      "metadata": {
        "id": "NG27oJ9vWeqd",
        "colab_type": "code",
        "colab": {
          "base_uri": "https://localhost:8080/",
          "height": 1032
        },
        "outputId": "cef4e87d-d1d5-4804-edc2-a429789ec2fa"
      },
      "cell_type": "code",
      "source": [
        "#total_dataset.index.values = np.vectorize(ord)(total_dataset.index.values)\n",
        "sorted_array = total_dataset.sort_values(ascending=False)\n",
        "print(sorted_array)\n",
        "import matplotlib.pyplot as plt\n",
        "#print(sorted_array.iloc[0:])\n",
        "print(total_dataset.index.values)\n",
        "plt.plot(total_dataset.index.values,total_dataset.values)\n",
        "sorted_array.plot.bar()"
      ],
      "execution_count": 82,
      "outputs": [
        {
          "output_type": "stream",
          "text": [
            "E    368.0\n",
            "X    364.0\n",
            "L    346.0\n",
            "O    343.0\n",
            "Q    340.0\n",
            "M    338.0\n",
            "J    337.0\n",
            "F    335.0\n",
            "K    334.0\n",
            "H    330.0\n",
            "V    328.0\n",
            "I    327.0\n",
            "U    326.0\n",
            "P    324.0\n",
            "D    320.0\n",
            "A    320.0\n",
            "R    318.0\n",
            "Y    314.0\n",
            "G    308.0\n",
            "S    308.0\n",
            "N    306.0\n",
            "W    305.0\n",
            "T    304.0\n",
            "B    302.0\n",
            "Z    288.0\n",
            "C    286.0\n",
            "4    171.0\n",
            "6    166.0\n",
            "7    164.0\n",
            "8    162.0\n",
            "3    162.0\n",
            "5    157.0\n",
            "2    152.0\n",
            "0    151.0\n",
            "9    150.0\n",
            "1    146.0\n",
            "dtype: float64\n",
            "['0' '1' '2' '3' '4' '5' '6' '7' '8' '9' 'A' 'B' 'C' 'D' 'E' 'F' 'G' 'H'\n",
            " 'I' 'J' 'K' 'L' 'M' 'N' 'O' 'P' 'Q' 'R' 'S' 'T' 'U' 'V' 'W' 'X' 'Y' 'Z']\n"
          ],
          "name": "stdout"
        },
        {
          "output_type": "execute_result",
          "data": {
            "text/plain": [
              "<matplotlib.axes._subplots.AxesSubplot at 0x7f726c09f0b8>"
            ]
          },
          "metadata": {
            "tags": []
          },
          "execution_count": 82
        },
        {
          "output_type": "display_data",
          "data": {
            "image/png": "[encoded data removed]",
            "text/plain": [
              "<matplotlib.figure.Figure at 0x7f726c09fd30>"
            ]
          },
          "metadata": {
            "tags": []
          }
        }
      ]
    },
    {
      "metadata": {
        "id": "mQdKbnOnhIEp",
        "colab_type": "text"
      },
      "cell_type": "markdown",
      "source": [
        "## Accessing specific rows\n"
      ]
    },
    {
      "metadata": {
        "id": "P5YDuNQphKhc",
        "colab_type": "code",
        "colab": {
          "base_uri": "https://localhost:8080/",
          "height": 308
        },
        "outputId": "56424ab7-590d-47e3-a477-41bda53011f9"
      },
      "cell_type": "code",
      "source": [
        "result = pd.read_csv('https://www.dropbox.com/s/9cljswede6r25ho/example5.csv?raw=1', index_col='something')\n",
        "print(result)\n",
        "\n",
        "print(result[:10])\n",
        "\n",
        "print(result[3:10])\n",
        "\n",
        "print(result.loc[['one','two'],['a','b']])\n"
      ],
      "execution_count": 112,
      "outputs": [
        {
          "output_type": "stream",
          "text": [
            "           a   b     c   d message\n",
            "something                         \n",
            "one        1   2   3.0   4     NaN\n",
            "two        5   6   NaN   8   world\n",
            "three      9  10  11.0  12     foo\n",
            "           a   b     c   d message\n",
            "something                         \n",
            "one        1   2   3.0   4     NaN\n",
            "two        5   6   NaN   8   world\n",
            "three      9  10  11.0  12     foo\n",
            "Empty DataFrame\n",
            "Columns: [a, b, c, d, message]\n",
            "Index: []\n",
            "           a  b\n",
            "something      \n",
            "one        1  2\n",
            "two        5  6\n"
          ],
          "name": "stdout"
        }
      ]
    },
    {
      "metadata": {
        "id": "8-s5pvKSi17m",
        "colab_type": "text"
      },
      "cell_type": "markdown",
      "source": [
        "## Treat and De-Duplicate\n"
      ]
    },
    {
      "metadata": {
        "id": "6vlKIpHli5vz",
        "colab_type": "code",
        "colab": {
          "base_uri": "https://localhost:8080/",
          "height": 103
        },
        "outputId": "d53abce6-1af1-4f1e-9691-ea04cbcd7b3e"
      },
      "cell_type": "code",
      "source": [
        "result = pd.read_csv('https://www.dropbox.com/s/9cljswede6r25ho/example5.csv?raw=1', index_col='something')\n",
        "\n",
        "print(result)"
      ],
      "execution_count": 116,
      "outputs": [
        {
          "output_type": "stream",
          "text": [
            "           a   b     c   d message\n",
            "something                         \n",
            "one        1   2   3.0   4     NaN\n",
            "two        5   6   NaN   8   world\n",
            "three      9  10  11.0  12     foo\n"
          ],
          "name": "stdout"
        }
      ]
    },
    {
      "metadata": {
        "id": "Ygvih4Zxi7Iv",
        "colab_type": "code",
        "colab": {
          "base_uri": "https://localhost:8080/",
          "height": 103
        },
        "outputId": "a6e4ef92-8a94-4a66-956c-8f9c79a9de95"
      },
      "cell_type": "code",
      "source": [
        "print(result.isnull())"
      ],
      "execution_count": 114,
      "outputs": [
        {
          "output_type": "stream",
          "text": [
            "               a      b      c      d  message\n",
            "something                                     \n",
            "one        False  False  False  False     True\n",
            "two        False  False   True  False    False\n",
            "three      False  False  False  False    False\n"
          ],
          "name": "stdout"
        }
      ]
    },
    {
      "metadata": {
        "id": "hlvyvYdxi_l7",
        "colab_type": "code",
        "colab": {
          "base_uri": "https://localhost:8080/",
          "height": 103
        },
        "outputId": "41c950c9-55cd-4f79-a471-88807c5a9829"
      },
      "cell_type": "code",
      "source": [
        "result.loc['one','message'] = 'blank'\n",
        "print(result)"
      ],
      "execution_count": 93,
      "outputs": [
        {
          "output_type": "stream",
          "text": [
            "           a   b     c   d message\n",
            "something                         \n",
            "one        1   2   3.0   4   blank\n",
            "two        5   6   NaN   8   world\n",
            "three      9  10  11.0  12     foo\n"
          ],
          "name": "stdout"
        }
      ]
    },
    {
      "metadata": {
        "id": "gUZVb1DHjdKe",
        "colab_type": "code",
        "colab": {
          "base_uri": "https://localhost:8080/",
          "height": 103
        },
        "outputId": "705ab5e0-f358-472e-e7f4-56c287ef7c47"
      },
      "cell_type": "code",
      "source": [
        "filled = result.fillna(0)\n",
        "print(filled)"
      ],
      "execution_count": 95,
      "outputs": [
        {
          "output_type": "stream",
          "text": [
            "           a   b     c   d message\n",
            "something                         \n",
            "one        1   2   3.0   4   blank\n",
            "two        5   6   0.0   8   world\n",
            "three      9  10  11.0  12     foo\n"
          ],
          "name": "stdout"
        }
      ]
    },
    {
      "metadata": {
        "id": "f6M1ddBXjm_M",
        "colab_type": "code",
        "colab": {
          "base_uri": "https://localhost:8080/",
          "height": 188
        },
        "outputId": "11e2950f-d4ea-41ec-d37d-092db97b7fc8"
      },
      "cell_type": "code",
      "source": [
        "filled = result.fillna({'c': 1})\n",
        "filled = filled.fillna({'message': 'blank'})\n",
        "print(filled)\n",
        "print(filled.isnull())"
      ],
      "execution_count": 115,
      "outputs": [
        {
          "output_type": "stream",
          "text": [
            "           a   b     c   d message\n",
            "something                         \n",
            "one        1   2   3.0   4   blank\n",
            "two        5   6   1.0   8   world\n",
            "three      9  10  11.0  12     foo\n",
            "               a      b      c      d  message\n",
            "something                                     \n",
            "one        False  False  False  False    False\n",
            "two        False  False  False  False    False\n",
            "three      False  False  False  False    False\n"
          ],
          "name": "stdout"
        }
      ]
    },
    {
      "metadata": {
        "id": "yeJLCmjbjse_",
        "colab_type": "code",
        "colab": {
          "base_uri": "https://localhost:8080/",
          "height": 274
        },
        "outputId": "d1733ee0-83bb-4c68-cd42-808e0858cb0b"
      },
      "cell_type": "code",
      "source": [
        "result = pd.read_csv('https://www.dropbox.com/s/9cljswede6r25ho/example5.csv?raw=1', index_col='something')\n",
        "\n",
        "print(result)\n",
        "filled = result.fillna(method = 'ffill')\n",
        "print(filled)\n",
        "filled = filled.fillna({'message': 'blank'})\n",
        "print(filled)\n"
      ],
      "execution_count": 121,
      "outputs": [
        {
          "output_type": "stream",
          "text": [
            "           a   b     c   d message\n",
            "something                         \n",
            "one        1   2   3.0   4     NaN\n",
            "two        5   6   NaN   8   world\n",
            "three      9  10  11.0  12     foo\n",
            "           a   b     c   d message\n",
            "something                         \n",
            "one        1   2   3.0   4     NaN\n",
            "two        5   6   3.0   8   world\n",
            "three      9  10  11.0  12     foo\n",
            "           a   b     c   d message\n",
            "something                         \n",
            "one        1   2   3.0   4   blank\n",
            "two        5   6   3.0   8   world\n",
            "three      9  10  11.0  12     foo\n"
          ],
          "name": "stdout"
        }
      ]
    },
    {
      "metadata": {
        "id": "YIEaWVvCkm_j",
        "colab_type": "code",
        "colab": {
          "base_uri": "https://localhost:8080/",
          "height": 120
        },
        "outputId": "00176bec-4eb8-4c8d-c73f-b6b0f95128b6"
      },
      "cell_type": "code",
      "source": [
        "result = pd.read_csv('https://www.dropbox.com/s/9cljswede6r25ho/example5.csv?raw=1', index_col='something')\n",
        "print(result.isnull().sum())"
      ],
      "execution_count": 122,
      "outputs": [
        {
          "output_type": "stream",
          "text": [
            "a          0\n",
            "b          0\n",
            "c          1\n",
            "d          0\n",
            "message    1\n",
            "dtype: int64\n"
          ],
          "name": "stdout"
        }
      ]
    },
    {
      "metadata": {
        "id": "N5SiBwmolBv3",
        "colab_type": "code",
        "colab": {
          "base_uri": "https://localhost:8080/",
          "height": 240
        },
        "outputId": "aa855662-58ed-4c54-a0ba-f33f6abcb5b6"
      },
      "cell_type": "code",
      "source": [
        "dropped = result.dropna()\n",
        "print(dropped)\n",
        "print(result.dropna(axis=1))\n",
        "print(result.dropna(how=\"all\"))"
      ],
      "execution_count": 125,
      "outputs": [
        {
          "output_type": "stream",
          "text": [
            "           a   b     c   d message\n",
            "something                         \n",
            "three      9  10  11.0  12     foo\n",
            "           a   b   d\n",
            "something           \n",
            "one        1   2   4\n",
            "two        5   6   8\n",
            "three      9  10  12\n",
            "           a   b     c   d message\n",
            "something                         \n",
            "one        1   2   3.0   4     NaN\n",
            "two        5   6   NaN   8   world\n",
            "three      9  10  11.0  12     foo\n"
          ],
          "name": "stdout"
        }
      ]
    },
    {
      "metadata": {
        "id": "5Ki0uiUJlyYE",
        "colab_type": "text"
      },
      "cell_type": "markdown",
      "source": [
        "## Removing Duplicates"
      ]
    },
    {
      "metadata": {
        "id": "1LJpvxgNlUuh",
        "colab_type": "code",
        "colab": {
          "base_uri": "https://localhost:8080/",
          "height": 264
        },
        "outputId": "2ce46a29-a0f2-480b-e2e9-1d2e17dc6009"
      },
      "cell_type": "code",
      "source": [
        "DataFrame_obj = pd.DataFrame({'column 1': [4, 4, 5, 5, 6, 6, 6],\n",
        "                  'column 2': ['x', 'x', 'y', 'y', 'z', 'z', 'z'],\n",
        "                  'column 3': ['X', 'X', 'Y', 'Y', 'Z', 'Z', 'Z']})\n",
        "DataFrame_obj"
      ],
      "execution_count": 127,
      "outputs": [
        {
          "output_type": "execute_result",
          "data": {
            "text/html": [
              "<div>\n",
              "<style scoped>\n",
              "    .dataframe tbody tr th:only-of-type {\n",
              "        vertical-align: middle;\n",
              "    }\n",
              "\n",
              "    .dataframe tbody tr th {\n",
              "        vertical-align: top;\n",
              "    }\n",
              "\n",
              "    .dataframe thead th {\n",
              "        text-align: right;\n",
              "    }\n",
              "</style>\n",
              "<table border=\"1\" class=\"dataframe\">\n",
              "  <thead>\n",
              "    <tr style=\"text-align: right;\">\n",
              "      <th></th>\n",
              "      <th>column 1</th>\n",
              "      <th>column 2</th>\n",
              "      <th>column 3</th>\n",
              "    </tr>\n",
              "  </thead>\n",
              "  <tbody>\n",
              "    <tr>\n",
              "      <th>0</th>\n",
              "      <td>4</td>\n",
              "      <td>x</td>\n",
              "      <td>X</td>\n",
              "    </tr>\n",
              "    <tr>\n",
              "      <th>1</th>\n",
              "      <td>4</td>\n",
              "      <td>x</td>\n",
              "      <td>X</td>\n",
              "    </tr>\n",
              "    <tr>\n",
              "      <th>2</th>\n",
              "      <td>5</td>\n",
              "      <td>y</td>\n",
              "      <td>Y</td>\n",
              "    </tr>\n",
              "    <tr>\n",
              "      <th>3</th>\n",
              "      <td>5</td>\n",
              "      <td>y</td>\n",
              "      <td>Y</td>\n",
              "    </tr>\n",
              "    <tr>\n",
              "      <th>4</th>\n",
              "      <td>6</td>\n",
              "      <td>z</td>\n",
              "      <td>Z</td>\n",
              "    </tr>\n",
              "    <tr>\n",
              "      <th>5</th>\n",
              "      <td>6</td>\n",
              "      <td>z</td>\n",
              "      <td>Z</td>\n",
              "    </tr>\n",
              "    <tr>\n",
              "      <th>6</th>\n",
              "      <td>6</td>\n",
              "      <td>z</td>\n",
              "      <td>Z</td>\n",
              "    </tr>\n",
              "  </tbody>\n",
              "</table>\n",
              "</div>"
            ],
            "text/plain": [
              "   column 1 column 2 column 3\n",
              "0         4        x        X\n",
              "1         4        x        X\n",
              "2         5        y        Y\n",
              "3         5        y        Y\n",
              "4         6        z        Z\n",
              "5         6        z        Z\n",
              "6         6        z        Z"
            ]
          },
          "metadata": {
            "tags": []
          },
          "execution_count": 127
        }
      ]
    },
    {
      "metadata": {
        "id": "pBNDv7Yzl224",
        "colab_type": "code",
        "colab": {
          "base_uri": "https://localhost:8080/",
          "height": 154
        },
        "outputId": "428b91d6-705a-469a-aae6-774f336e4967"
      },
      "cell_type": "code",
      "source": [
        "print(DataFrame_obj.duplicated())"
      ],
      "execution_count": 129,
      "outputs": [
        {
          "output_type": "stream",
          "text": [
            "0    False\n",
            "1     True\n",
            "2    False\n",
            "3     True\n",
            "4    False\n",
            "5     True\n",
            "6     True\n",
            "dtype: bool\n"
          ],
          "name": "stdout"
        }
      ]
    },
    {
      "metadata": {
        "id": "xipBj1IumCAl",
        "colab_type": "code",
        "colab": {
          "base_uri": "https://localhost:8080/",
          "height": 85
        },
        "outputId": "9756948c-dd4e-4d44-f4f5-05abe5575209"
      },
      "cell_type": "code",
      "source": [
        "print(DataFrame_obj.drop_duplicates())"
      ],
      "execution_count": 130,
      "outputs": [
        {
          "output_type": "stream",
          "text": [
            "   column 1 column 2 column 3\n",
            "0         4        x        X\n",
            "2         5        y        Y\n",
            "4         6        z        Z\n"
          ],
          "name": "stdout"
        }
      ]
    },
    {
      "metadata": {
        "id": "svWVt_7mmJ_4",
        "colab_type": "code",
        "colab": {}
      },
      "cell_type": "code",
      "source": [
        ""
      ],
      "execution_count": 0,
      "outputs": []
    }
  ]
}