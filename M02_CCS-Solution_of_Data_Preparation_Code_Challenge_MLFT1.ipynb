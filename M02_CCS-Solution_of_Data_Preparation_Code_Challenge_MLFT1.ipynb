{
  "nbformat": 4,
  "nbformat_minor": 0,
  "metadata": {
    "colab": {
      "name": "Solution of Data Preparation Code Challenge MLFT1.ipynb",
      "version": "0.3.2",
      "provenance": [],
      "collapsed_sections": []
    },
    "kernelspec": {
      "name": "python3",
      "display_name": "Python 3"
    }
  },
  "cells": [
    {
      "cell_type": "markdown",
      "metadata": {
        "id": "view-in-github",
        "colab_type": "text"
      },
      "source": [
        "[View in Colaboratory](https://colab.research.google.com/github/schwaaweb/aimlds1_02/blob/master/M02_CCS-Solution_of_Data_Preparation_Code_Challenge_MLFT1.ipynb)"
      ]
    },
    {
      "metadata": {
        "id": "PECjvvnAAkV2",
        "colab_type": "text"
      },
      "cell_type": "markdown",
      "source": [
        "\n",
        "Replace the missing values in the attached data set with the median of the age and salary columns respectively.\n",
        "\n",
        "The data set is posted here:\n",
        "\n",
        "https://www.dropbox.com/s/91tthp8h6hgxzi6/Data-CodeChallenge1.csv?raw=1\n",
        "\n",
        "*Hint*: https://chrisalbon.com/machine_learning/preprocessing_structured_data/impute_missing_values_with_means/\n",
        "\n",
        "Utilize the Imputer class from the sklearn.preprocessing page\n",
        " \n",
        "*API documentation*: http://scikit-learn.org/stable/modules/generated/sklearn.preprocessing.Imputer.html\n",
        "\n",
        "\n"
      ]
    },
    {
      "metadata": {
        "id": "ujC8Ge9uBsEr",
        "colab_type": "code",
        "colab": {
          "base_uri": "https://localhost:8080/",
          "height": 754
        },
        "outputId": "765ee7d0-c9ee-422b-e490-3a5de674e23d"
      },
      "cell_type": "code",
      "source": [
        "import pandas as pd\n",
        "import numpy as np\n",
        "from sklearn.preprocessing import Imputer\n",
        "\n",
        "dataset = pd.read_csv('https://www.dropbox.com/s/91tthp8h6hgxzi6/Data-CodeChallenge1.csv?raw=1')\n",
        "\n",
        "print(dataset)\n",
        "\n",
        "# Create an imputer object that looks for 'Nan' values, then replaces them with the mean value of the feature by columns (axis=0)\n",
        "mean_imputer = Imputer(missing_values='NaN', strategy='median', axis=0)\n",
        "\n",
        "# Train the imputer\n",
        "print(dataset.iloc[:,[1,2]])\n",
        "mean_imputer = mean_imputer.fit(dataset.iloc[:,[1,2]])\n",
        "\n",
        "# Apply the imputer to the dataset\n",
        "imputed_dataset = mean_imputer.transform(dataset.iloc[:,[1,2]])\n",
        "print(imputed_dataset)\n",
        "\n",
        "dataset['Age'] = np.round(imputed_dataset[:,0], decimals=1)\n",
        "dataset['Salary'] = np.round(imputed_dataset[:,1], decimals=1)\n",
        "print(dataset)\n"
      ],
      "execution_count": 6,
      "outputs": [
        {
          "output_type": "stream",
          "text": [
            "  Cities in East Bay   Age    Salary Own Home?\n",
            "0         Pleasanton  44.0  172000.0        No\n",
            "1       Walnut Creek  27.0  148000.0       Yes\n",
            "2             Dublin  30.0  154000.0        No\n",
            "3       Walnut Creek  38.0  161000.0        No\n",
            "4             Dublin  40.0       NaN       Yes\n",
            "5         Pleasanton  35.0  158000.0       Yes\n",
            "6       Walnut Creek   NaN  152000.0        No\n",
            "7         Pleasanton  48.0  179000.0       Yes\n",
            "8             Dublin  50.0  183000.0        No\n",
            "9         Pleasanton  37.0  167000.0       Yes\n",
            "    Age    Salary\n",
            "0  44.0  172000.0\n",
            "1  27.0  148000.0\n",
            "2  30.0  154000.0\n",
            "3  38.0  161000.0\n",
            "4  40.0       NaN\n",
            "5  35.0  158000.0\n",
            "6   NaN  152000.0\n",
            "7  48.0  179000.0\n",
            "8  50.0  183000.0\n",
            "9  37.0  167000.0\n",
            "[[4.40e+01 1.72e+05]\n",
            " [2.70e+01 1.48e+05]\n",
            " [3.00e+01 1.54e+05]\n",
            " [3.80e+01 1.61e+05]\n",
            " [4.00e+01 1.61e+05]\n",
            " [3.50e+01 1.58e+05]\n",
            " [3.80e+01 1.52e+05]\n",
            " [4.80e+01 1.79e+05]\n",
            " [5.00e+01 1.83e+05]\n",
            " [3.70e+01 1.67e+05]]\n",
            "  Cities in East Bay   Age    Salary Own Home?\n",
            "0         Pleasanton  44.0  172000.0        No\n",
            "1       Walnut Creek  27.0  148000.0       Yes\n",
            "2             Dublin  30.0  154000.0        No\n",
            "3       Walnut Creek  38.0  161000.0        No\n",
            "4             Dublin  40.0  161000.0       Yes\n",
            "5         Pleasanton  35.0  158000.0       Yes\n",
            "6       Walnut Creek  38.0  152000.0        No\n",
            "7         Pleasanton  48.0  179000.0       Yes\n",
            "8             Dublin  50.0  183000.0        No\n",
            "9         Pleasanton  37.0  167000.0       Yes\n"
          ],
          "name": "stdout"
        }
      ]
    },
    {
      "metadata": {
        "id": "qYtOmlWXJQQd",
        "colab_type": "code",
        "colab": {}
      },
      "cell_type": "code",
      "source": [
        ""
      ],
      "execution_count": 0,
      "outputs": []
    }
  ]
}